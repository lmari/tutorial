{
 "cells": [
  {
   "cell_type": "markdown",
   "metadata": {},
   "source": [
    "## Un semplice esempio di Retrieval-Augmented Generation (RAG)\n",
    "\n",
    "Luca Mari, settembre 2024  \n",
    "\n",
    "Quest'opera è distribuita con <a href=\"http://creativecommons.org/licenses/by-nc-sa/4.0\" target=\"_blank\">Licenza Creative Commons Attribuzione - Non commerciale - Condividi allo stesso modo 4.0 Internazionale</a>.  \n",
    "<img src=\"https://creativecommons.it/chapterIT/wp-content/uploads/2021/01/by-nc-sa.eu_.png\" width=\"100\">\n",
    "\n",
    "**Obiettivo**: comprendere qualche aspetto della logica delle architetture ad agenti e dell'esecuzione automatica di funzioni.  \n",
    "**Precompetenze**: basi di Python.\n",
    "\n",
    "> Per eseguire questo notebook, supponiamo con VSCode, occorre:\n",
    "> * installare un interprete Python\n",
    "> * scaricare da https://code.visualstudio.com/download e installare VSCode\n",
    "> * eseguire VSCode e attivare le estensioni per Python e Jupyter\n",
    "> * ancora in VSCode:\n",
    ">     * creare una cartella di lavoro e renderla la cartella corrente\n",
    ">     * copiare nella cartella il file di questa attività: [rag.ipynb](rag.ipynb)\n",
    ">     * aprire il notebook `rag.ipynb`\n",
    ">     * creare un ambiente virtuale locale Python (Select Kernel | Python Environments | Create Python Environment | Venv, e scegliere un interprete Python):\n",
    ">     * installare i moduli Python richiesti, eseguendo dal terminale:  \n",
    ">         `pip install torch sentence_transformers`"
   ]
  },
  {
   "cell_type": "markdown",
   "metadata": {},
   "source": [
    "Importiamo il modulo Python necessario per realizzare il sentence embedding (la documentazione è qui: https://www.sbert.net).  \n",
    "Dopo aver specificato che, per semplicità, faremo eseguire il codice sempre in CPU anche nel caso una GPU sia disponibile, carichiamo il modello."
   ]
  },
  {
   "cell_type": "code",
   "execution_count": 1,
   "metadata": {},
   "outputs": [
    {
     "name": "stderr",
     "output_type": "stream",
     "text": [
      "/home/lucamari/Bin/tutorial/.venv/lib/python3.12/site-packages/sentence_transformers/cross_encoder/CrossEncoder.py:13: TqdmExperimentalWarning: Using `tqdm.autonotebook.tqdm` in notebook mode. Use `tqdm.tqdm` instead to force console mode (e.g. in jupyter console)\n",
      "  from tqdm.autonotebook import tqdm, trange\n"
     ]
    }
   ],
   "source": [
    "from sentence_transformers import SentenceTransformer\n",
    "import torch\n",
    "\n",
    "device = \"cpu\"\n",
    "\n",
    "model = SentenceTransformer('intfloat/multilingual-e5-large', device=device)"
   ]
  },
  {
   "cell_type": "markdown",
   "metadata": {},
   "source": [
    "Supponiamo di avere un archivio di testi da cui recuperare l'informazione utile per rispondere in modo appropriato a richieste che vengono poste. Qui per semplicità l'archivio è costituito da 5 frasi, generate sinteticamente e con contenuto evidentemente non noto in precedenza, in modo che sia chiaro se il processo di recupero funziona correttamente."
   ]
  },
  {
   "cell_type": "code",
   "execution_count": 2,
   "metadata": {},
   "outputs": [],
   "source": [
    "sentences = [\n",
    "    \"Nel 2015, gli scienziati hanno scoperto una nuova forma di vita basata su silicio nelle profondità del pianeta Venere.\",\n",
    "    \"La città di Aqualia, sommersa nel 1723, è stata recentemente riscoperta sotto l'Oceano Atlantico, perfettamente conservata.\",\n",
    "    \"Gli archeologi hanno decifrato un antico manoscritto che descrive tecnologie avanzate utilizzate dai Sumeri per costruire ponti sospesi.\",\n",
    "    \"Una misteriosa foresta bioluminescente è stata scoperta sotto i ghiacciai dell'Antartide, rivelando specie mai documentate prima.\",\n",
    "    \"Un team di astrofisici ha confermato l'esistenza di un buco nero artificiale creato durante esperimenti militari segreti negli anni '60.\"\n",
    "]"
   ]
  },
  {
   "cell_type": "markdown",
   "metadata": {},
   "source": [
    "Costruiamo il vettore di embedding di ogni frase. "
   ]
  },
  {
   "cell_type": "code",
   "execution_count": 3,
   "metadata": {},
   "outputs": [
    {
     "name": "stdout",
     "output_type": "stream",
     "text": [
      "Ogni frase è rappresentata da un vettore di 1024 numeri.\n"
     ]
    }
   ],
   "source": [
    "embeddings = [model.encode(sentence) for sentence in sentences]\n",
    "\n",
    "print(f'Ogni frase è rappresentata da un vettore di {len(embeddings[0])} numeri.')"
   ]
  },
  {
   "cell_type": "markdown",
   "metadata": {},
   "source": [
    "Per curiosità, calcoliamo la similarità di ogni coppia di vettori-frasi."
   ]
  },
  {
   "cell_type": "code",
   "execution_count": 4,
   "metadata": {},
   "outputs": [
    {
     "name": "stderr",
     "output_type": "stream",
     "text": [
      "/home/lucamari/Bin/tutorial/.venv/lib/python3.12/site-packages/sentence_transformers/util.py:44: UserWarning: Creating a tensor from a list of numpy.ndarrays is extremely slow. Please consider converting the list to a single numpy.ndarray with numpy.array() before converting to a tensor. (Triggered internally at ../torch/csrc/utils/tensor_new.cpp:278.)\n",
      "  a = torch.tensor(a)\n"
     ]
    },
    {
     "data": {
      "text/plain": [
       "tensor([[1.0000, 0.8134, 0.8232, 0.8399, 0.8220],\n",
       "        [0.8134, 1.0000, 0.8087, 0.8136, 0.7965],\n",
       "        [0.8232, 0.8087, 1.0000, 0.8047, 0.8398],\n",
       "        [0.8399, 0.8136, 0.8047, 1.0000, 0.8310],\n",
       "        [0.8220, 0.7965, 0.8398, 0.8310, 1.0000]])"
      ]
     },
     "execution_count": 4,
     "metadata": {},
     "output_type": "execute_result"
    }
   ],
   "source": [
    "model.similarity(embeddings, embeddings)"
   ]
  },
  {
   "cell_type": "markdown",
   "metadata": {},
   "source": [
    "Data una domanda, calcoliamone la similarità con le frasi dell'archivio. "
   ]
  },
  {
   "cell_type": "code",
   "execution_count": 5,
   "metadata": {},
   "outputs": [
    {
     "data": {
      "text/plain": [
       "tensor([[0.8912],\n",
       "        [0.7922],\n",
       "        [0.8110],\n",
       "        [0.8224],\n",
       "        [0.7989]])"
      ]
     },
     "execution_count": 5,
     "metadata": {},
     "output_type": "execute_result"
    }
   ],
   "source": [
    "query = \"Sei informato di una scoperta a proposito di una nuova forma di vita su Venere?\"\n",
    "query_embedding = model.encode(query)\n",
    "\n",
    "similarities = model.similarity(embeddings, query_embedding)\n",
    "similarities"
   ]
  },
  {
   "cell_type": "markdown",
   "metadata": {},
   "source": [
    "Recuperiamo la frase dell'archivio più simile alla domanda."
   ]
  },
  {
   "cell_type": "code",
   "execution_count": 6,
   "metadata": {},
   "outputs": [
    {
     "data": {
      "text/plain": [
       "'Nel 2015, gli scienziati hanno scoperto una nuova forma di vita basata su silicio nelle profondità del pianeta Venere.'"
      ]
     },
     "execution_count": 6,
     "metadata": {},
     "output_type": "execute_result"
    }
   ],
   "source": [
    "best_index = torch.argmax(similarities).item()\n",
    "retrieved_sentence = sentences[best_index]\n",
    "retrieved_sentence"
   ]
  },
  {
   "cell_type": "markdown",
   "metadata": {},
   "source": [
    "Prima di tutto, poniamo la domanda senza consentire al modello di accedere al nostro archivio."
   ]
  },
  {
   "cell_type": "code",
   "execution_count": 7,
   "metadata": {},
   "outputs": [
    {
     "data": {
      "application/vnd.jupyter.widget-view+json": {
       "model_id": "e75c232c3f3545b29b809bfb0f75ce9d",
       "version_major": 2,
       "version_minor": 0
      },
      "text/plain": [
       "Loading checkpoint shards:   0%|          | 0/2 [00:00<?, ?it/s]"
      ]
     },
     "metadata": {},
     "output_type": "display_data"
    },
    {
     "name": "stderr",
     "output_type": "stream",
     "text": [
      "You are not running the flash-attention implementation, expect numerical differences.\n"
     ]
    },
    {
     "name": "stdout",
     "output_type": "stream",
     "text": [
      "(' Al momento non ho informazioni su una scoperta relativa a una nuova forma '\n",
      " 'di vita su Venere. Fino al mio ultimo aggiornamento, non ci sono prove '\n",
      " 'scientificamente accettate di vita extraterrestre su Venere.\\n'\n",
      " '\\n'\n",
      " 'Tuttavia, la ricerca scientifica continua e nuove scoperte potrebbero '\n",
      " 'emergere. La ricerca di vita su Venere si concentra principalmente sui suoi '\n",
      " 'ambienti estremi, come le alte temperature, la pressione atmosferica e la '\n",
      " 'presenza di acqua allo stato liquido sotto forma di acque sotterranee.\\n'\n",
      " '\\n'\n",
      " 'Se hai trovato qualche notizia o documentazione recente, ti invito a '\n",
      " 'condividere i dettagli affinché possa aiutarti a interpretare o spiegare '\n",
      " 'meglio le informazioni.')\n"
     ]
    }
   ],
   "source": [
    "from transformers import pipeline\n",
    "from pprint import pprint\n",
    "\n",
    "model = \"microsoft/Phi-3.5-mini-instruct\"\n",
    "generator = pipeline(\"text-generation\", model=model, device=device)\n",
    "\n",
    "res = generator(\n",
    "    [\n",
    "        { \"role\": \"system\", \"content\": \"Sei un esperto che risponde in italiano.\" },\n",
    "        {\n",
    "            \"role\": \"user\",\n",
    "            \"content\": f\"{query}\"\n",
    "        }\n",
    "    ],\n",
    "    max_new_tokens=200\n",
    ")\n",
    "pprint(res[0][\"generated_text\"][2]['content'])\n"
   ]
  },
  {
   "cell_type": "markdown",
   "metadata": {},
   "source": [
    "Ora ripetiamo la domanda anteponendo la frase che era stata recuperata."
   ]
  },
  {
   "cell_type": "code",
   "execution_count": null,
   "metadata": {},
   "outputs": [
    {
     "name": "stdout",
     "output_type": "stream",
     "text": [
      "(' Sì, sono informato di una scoperta relativa a una nuova forma di vita su '\n",
      " 'Venere. Secondo la tua dichiarazione, nel 2015 gli scienziati hanno '\n",
      " 'identificato una forma di vita basata su silicio nelle profondità del '\n",
      " 'pianeta Venere. Questa scoperta è significativa poiché sfida le nostre '\n",
      " 'attuali comprensioni della vita, poiché il silicio è un elemento comune '\n",
      " 'sulla Terra ma non è stato considerato un substrato per la vita in ambienti '\n",
      " 'simili a Venere. Questa scoperta potrebbe portare a ulteriori ricerche e '\n",
      " 'discussioni sulla possibilità di vita in condizioni estreme e su altri '\n",
      " 'pianeti.')\n"
     ]
    }
   ],
   "source": [
    "res = generator(\n",
    "    [\n",
    "        { \"role\": \"system\", \"content\": \"Sei un esperto che risponde in italiano.\" },\n",
    "        {\n",
    "            \"role\": \"user\",\n",
    "            \"content\": f\"\"\"\n",
    "                Tenendo conto di questa informazione: {retrieved_sentence},\n",
    "                {query}\n",
    "            \"\"\"\n",
    "        }\n",
    "    ],\n",
    "    max_new_tokens=200\n",
    ")\n",
    "pprint(res[0][\"generated_text\"][2]['content'])\n"
   ]
  }
 ],
 "metadata": {
  "kernelspec": {
   "display_name": ".venv",
   "language": "python",
   "name": "python3"
  },
  "language_info": {
   "codemirror_mode": {
    "name": "ipython",
    "version": 3
   },
   "file_extension": ".py",
   "mimetype": "text/x-python",
   "name": "python",
   "nbconvert_exporter": "python",
   "pygments_lexer": "ipython3",
   "version": "3.12.7"
  }
 },
 "nbformat": 4,
 "nbformat_minor": 2
}
