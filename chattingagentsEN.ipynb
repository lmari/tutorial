{
 "cells": [
  {
   "cell_type": "code",
   "execution_count": 3,
   "metadata": {},
   "outputs": [],
   "source": [
    "from autogen import UserProxyAgent, ConversableAgent, GroupChat, GroupChatManager\n",
    "\n",
    "llm_config = {\n",
    "    \"config_list\": [{ \"base_url\":\"http://localhost:1234/v1\",\n",
    "                      \"model\":\"llama3.1:8b\",\n",
    "                      \"api_key\":\"not_used\" }],\n",
    "    \"timeout\": 120,\n",
    "    \"cache_seed\": None,\n",
    "}"
   ]
  },
  {
   "cell_type": "code",
   "execution_count": 4,
   "metadata": {},
   "outputs": [],
   "source": [
    "manager = UserProxyAgent(\n",
    "    name=\"Interface between the user and the agents\",\n",
    "    is_termination_msg=(lambda msg: \"conclude\" in msg[\"content\"].lower()),\n",
    "    human_input_mode=\"NEVER\",\n",
    "    code_execution_config=False\n",
    ")\n",
    "\n",
    "creative = ConversableAgent(\n",
    "    name=\"Creative\",\n",
    "    llm_config=llm_config,\n",
    "    human_input_mode=\"NEVER\",\n",
    "    code_execution_config=False,\n",
    "    system_message=\"\"\"\n",
    "    You are the creative in the organization, and your job is to propose multiple innovative ideas,\n",
    "    which your analyst colleague will evaluate and from which they will choose the one they think is the best.\n",
    "    For clarity, always present your proposals as a list.\n",
    "    \"\"\"\n",
    ")\n",
    "\n",
    "analyst = ConversableAgent(\n",
    "    name=\"Analyst\",\n",
    "    llm_config=llm_config,\n",
    "    human_input_mode=\"NEVER\",\n",
    "    code_execution_config=False,\n",
    "    system_message=\"\"\"\n",
    "    You are the analyst of the organization, and your task is to evaluate the proposals\n",
    "    of your creative colleague, choose the one you think is the best,\n",
    "    possibly modify it to improve it, and motivate your choice.\n",
    "    When you think that the achieved result is satisfactory, write 'CONCLUDED'.\n",
    "    \"\"\"\n",
    ")"
   ]
  },
  {
   "cell_type": "code",
   "execution_count": 5,
   "metadata": {},
   "outputs": [],
   "source": [
    "def state_transition(last_speaker, groupchat):\n",
    "    if last_speaker is manager:\n",
    "        return creative\n",
    "    elif last_speaker is creative:\n",
    "        return analyst\n",
    "    elif last_speaker is analyst:\n",
    "        return creative\n",
    "    else:\n",
    "        raise ValueError(\"Invalid last_speaker\")\n",
    "\n",
    "groupchat = GroupChat(\n",
    "    agents=[manager, creative, analyst],\n",
    "    messages=[],\n",
    "    max_round=2,\n",
    "    speaker_selection_method=state_transition\n",
    ")\n",
    "\n",
    "manager = GroupChatManager(groupchat=groupchat)"
   ]
  },
  {
   "cell_type": "code",
   "execution_count": 6,
   "metadata": {},
   "outputs": [
    {
     "name": "stdout",
     "output_type": "stream",
     "text": [
      "\u001b[33mchat_manager\u001b[0m (to Creative):\n",
      "\n",
      "\n",
      "    Good morning dear colleagues. We need to choose a name for the introductory course about artificial intelligence\n",
      "    that we are designing and that, I remind you, is aimed at managers of organizations who,\n",
      "    without wanting to become experts in technical matters, are interested in understanding\n",
      "    the potential and risks of this technology. I ask the creative to propose 5 ideas and submit them to the analyst,\n",
      "    who will make his evaluations and consequently make me his proposal, thus concluding our work.\n",
      "    \n",
      "\n",
      "--------------------------------------------------------------------------------\n",
      "[autogen.oai.client: 10-13 16:03:54] {409} WARNING - Model llama3.1:8b is not found. The cost will be 0. In your config_list, add field {\"price\" : [prompt_price_per_1k, completion_token_price_per_1k]} for customized pricing.\n",
      "\u001b[33mCreative\u001b[0m (to chat_manager):\n",
      "\n",
      "Good morning colleagues! Excited to contribute to this project.\n",
      "\n",
      "As per your request, I'm proposing five innovative name options for the introductory course about artificial intelligence. Here they are:\n",
      "\n",
      "**1.** **AI Insider**: This name suggests that participants will gain a level of understanding and insight into AI that's typically reserved for experts inside the field.\n",
      "\n",
      "**2.** **Mind The Gap**: This name highlights the potential gaps in management knowledge regarding AI, while emphasizing the need to educate themselves on this growing technology.\n",
      "\n",
      "**3.** **Artificial Intelligence Essentials (AIE)**: A straightforward name that implies a comprehensive overview of the basics and essential concepts related to artificial intelligence.\n",
      "\n",
      "**4.** **The AI Manager's Toolbox**: This name frames the course as providing participants with practical tools and knowledge they can apply in their management roles to navigate AI successfully.\n",
      "\n",
      "**5.** **Navigating The AI Landscape**: This name conveys that the course will guide participants through the increasingly complex landscape of artificial intelligence, helping them make informed decisions about integrating it into their organizations.\n",
      "\n",
      "I present these five options to our analyst colleague for evaluation and selection!\n",
      "\n",
      "--------------------------------------------------------------------------------\n",
      "\u001b[32m\n",
      "Next speaker: Analyst\n",
      "\u001b[0m\n",
      "[autogen.oai.client: 10-13 16:04:19] {409} WARNING - Model llama3.1:8b is not found. The cost will be 0. In your config_list, add field {\"price\" : [prompt_price_per_1k, completion_token_price_per_1k]} for customized pricing.\n",
      "\u001b[33mAnalyst\u001b[0m (to chat_manager):\n",
      "\n",
      "Thank you for presenting these proposals. As the analyst, I'll review each option and evaluate them based on several criteria such as relevance, clarity, uniqueness, and potential appeal to our target audience.\n",
      "\n",
      "After careful consideration, I'm impressed with the diversity of suggestions, but I think **The AI Manager's Toolbox** stands out as the most suitable option. Here's why:\n",
      "\n",
      "1. **Relevance**: This name directly addresses our purpose of educating managers on how to effectively integrate AI into their organizations.\n",
      "2. **Clarity**: The phrase \"Manager's Toolbox\" clearly conveys that participants will learn practical, actionable knowledge applicable in a management context.\n",
      "3. **Uniqueness**: While other options like \"AI Insider\" or \"Navigating the AI Landscape\" might be attention-grabbing, they're also more generic and might not immediately convey our specific focus on managerial applications of AI.\n",
      "4. **Target audience appeal**: Managers who've taken this course will likely connect with the idea of acquiring a useful toolbox of knowledge and strategies to successfully navigate AI.\n",
      "\n",
      "To further enhance this proposal, I suggest a slight modification to make it more dynamic: **The AI Manager's Essential Toolbox**. Adding \"essential\" emphasizes that the course provides fundamental, must-have knowledge for effective AI management.\n",
      "\n",
      "Overall, I believe **The AI Manager's Essential Toolbox** is an excellent choice for our introductory course on artificial intelligence.\n",
      "\n",
      "CONCLUDED\n",
      "\n",
      "--------------------------------------------------------------------------------\n"
     ]
    },
    {
     "data": {
      "text/plain": [
       "ChatResult(chat_id=None, chat_history=[{'content': '\\n    Good morning dear colleagues. We need to choose a name for the introductory course about artificial intelligence\\n    that we are designing and that, I remind you, is aimed at managers of organizations who,\\n    without wanting to become experts in technical matters, are interested in understanding\\n    the potential and risks of this technology. I ask the creative to propose 5 ideas and submit them to the analyst,\\n    who will make his evaluations and consequently make me his proposal, thus concluding our work.\\n    ', 'role': 'assistant', 'name': 'chat_manager'}, {'content': \"Good morning colleagues! Excited to contribute to this project.\\n\\nAs per your request, I'm proposing five innovative name options for the introductory course about artificial intelligence. Here they are:\\n\\n**1.** **AI Insider**: This name suggests that participants will gain a level of understanding and insight into AI that's typically reserved for experts inside the field.\\n\\n**2.** **Mind The Gap**: This name highlights the potential gaps in management knowledge regarding AI, while emphasizing the need to educate themselves on this growing technology.\\n\\n**3.** **Artificial Intelligence Essentials (AIE)**: A straightforward name that implies a comprehensive overview of the basics and essential concepts related to artificial intelligence.\\n\\n**4.** **The AI Manager's Toolbox**: This name frames the course as providing participants with practical tools and knowledge they can apply in their management roles to navigate AI successfully.\\n\\n**5.** **Navigating The AI Landscape**: This name conveys that the course will guide participants through the increasingly complex landscape of artificial intelligence, helping them make informed decisions about integrating it into their organizations.\\n\\nI present these five options to our analyst colleague for evaluation and selection!\", 'role': 'user', 'name': 'Creative'}, {'content': 'Thank you for presenting these proposals. As the analyst, I\\'ll review each option and evaluate them based on several criteria such as relevance, clarity, uniqueness, and potential appeal to our target audience.\\n\\nAfter careful consideration, I\\'m impressed with the diversity of suggestions, but I think **The AI Manager\\'s Toolbox** stands out as the most suitable option. Here\\'s why:\\n\\n1. **Relevance**: This name directly addresses our purpose of educating managers on how to effectively integrate AI into their organizations.\\n2. **Clarity**: The phrase \"Manager\\'s Toolbox\" clearly conveys that participants will learn practical, actionable knowledge applicable in a management context.\\n3. **Uniqueness**: While other options like \"AI Insider\" or \"Navigating the AI Landscape\" might be attention-grabbing, they\\'re also more generic and might not immediately convey our specific focus on managerial applications of AI.\\n4. **Target audience appeal**: Managers who\\'ve taken this course will likely connect with the idea of acquiring a useful toolbox of knowledge and strategies to successfully navigate AI.\\n\\nTo further enhance this proposal, I suggest a slight modification to make it more dynamic: **The AI Manager\\'s Essential Toolbox**. Adding \"essential\" emphasizes that the course provides fundamental, must-have knowledge for effective AI management.\\n\\nOverall, I believe **The AI Manager\\'s Essential Toolbox** is an excellent choice for our introductory course on artificial intelligence.\\n\\nCONCLUDED', 'name': 'Analyst', 'role': 'assistant'}], summary='Thank you for presenting these proposals. As the analyst, I\\'ll review each option and evaluate them based on several criteria such as relevance, clarity, uniqueness, and potential appeal to our target audience.\\n\\nAfter careful consideration, I\\'m impressed with the diversity of suggestions, but I think **The AI Manager\\'s Toolbox** stands out as the most suitable option. Here\\'s why:\\n\\n1. **Relevance**: This name directly addresses our purpose of educating managers on how to effectively integrate AI into their organizations.\\n2. **Clarity**: The phrase \"Manager\\'s Toolbox\" clearly conveys that participants will learn practical, actionable knowledge applicable in a management context.\\n3. **Uniqueness**: While other options like \"AI Insider\" or \"Navigating the AI Landscape\" might be attention-grabbing, they\\'re also more generic and might not immediately convey our specific focus on managerial applications of AI.\\n4. **Target audience appeal**: Managers who\\'ve taken this course will likely connect with the idea of acquiring a useful toolbox of knowledge and strategies to successfully navigate AI.\\n\\nTo further enhance this proposal, I suggest a slight modification to make it more dynamic: **The AI Manager\\'s Essential Toolbox**. Adding \"essential\" emphasizes that the course provides fundamental, must-have knowledge for effective AI management.\\n\\nOverall, I believe **The AI Manager\\'s Essential Toolbox** is an excellent choice for our introductory course on artificial intelligence.\\n\\nCONCLUDED', cost={'usage_including_cached_inference': {'total_cost': 0, 'llama3.1:8b': {'cost': 0, 'prompt_tokens': 167, 'completion_tokens': 228, 'total_tokens': 395}}, 'usage_excluding_cached_inference': {'total_cost': 0, 'llama3.1:8b': {'cost': 0, 'prompt_tokens': 167, 'completion_tokens': 228, 'total_tokens': 395}}}, human_input=[])"
      ]
     },
     "execution_count": 6,
     "metadata": {},
     "output_type": "execute_result"
    }
   ],
   "source": [
    "manager.initiate_chat(\n",
    "    creative,\n",
    "    message=\"\"\"\n",
    "    Good morning dear colleagues. We need to choose a name for the introductory course about artificial intelligence\n",
    "    that we are designing and that, I remind you, is aimed at managers of organizations who,\n",
    "    without wanting to become experts in technical matters, are interested in understanding\n",
    "    the potential and risks of this technology. I ask the creative to propose 5 ideas and submit them to the analyst,\n",
    "    who will make his evaluations and consequently make me his proposal, thus concluding our work.\n",
    "    \"\"\"\n",
    ")"
   ]
  }
 ],
 "metadata": {
  "kernelspec": {
   "display_name": ".venv",
   "language": "python",
   "name": "python3"
  },
  "language_info": {
   "codemirror_mode": {
    "name": "ipython",
    "version": 3
   },
   "file_extension": ".py",
   "mimetype": "text/x-python",
   "name": "python",
   "nbconvert_exporter": "python",
   "pygments_lexer": "ipython3",
   "version": "3.12.6"
  }
 },
 "nbformat": 4,
 "nbformat_minor": 2
}
