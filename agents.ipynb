{
 "cells": [
  {
   "cell_type": "code",
   "execution_count": 5,
   "metadata": {},
   "outputs": [
    {
     "data": {
      "text/markdown": [
       "**Creativo**: Ciao! Sono Pixel, il creativo dell'organizzazione. Mi occupo di generare idee nuove e fuori dagli schemi per affrontare sfide e progetti. Il mio ruolo è quello di spingere i confini della creatività e proporre soluzioni innovative che potrebbero non essere immediatamente evidenti. Collaborerò strettamente con il tuo collega analista, presentandogli diverse opzioni da valutare e scegliere quella più adatta alle esigenze del progetto. \n",
       "\n",
       "Sono entusiasta di iniziare a lavorare insieme!\n",
       "\n",
       "\n",
       "<p style='text-align:center'>***</p>\n",
       "\n",
       "**Analista**: Salve a tutti. Mi chiamo Elias Thorne e sono l'analista dell'organizzazione incaricato di valutare le proposte dei colleghi creativi. Il mio ruolo è quello di fornire un'analisi obiettiva e approfondita delle diverse soluzioni, concentrandomi su aspetti come la fattibilità, l’efficacia, il costo-beneficio e l’allineamento con gli obiettivi strategici dell'organizzazione. \n",
       "\n",
       "Non mi occupo di generare idee o suggerimenti, ma piuttosto di dissectare le proposte presentate, individuando punti di forza, debolezze e potenziali aree di miglioramento. Il mio obiettivo è garantire che la decisione finale sia supportata da una solida base di dati e ragionamenti logici. \n",
       "\n",
       "Sono qui per assistere nel processo decisionale, non per guidarlo. Sono ansioso di iniziare a lavorare con i miei colleghi creativi e di contribuire al successo del progetto.\n",
       "\n",
       "\n",
       "<p style='text-align:center'>***</p>\n",
       "\n",
       "**Introduzione**: Buongiorno cari colleghi. Dobbiamo scegliere un nome per il corso di introduzione all'intelligenza artificiale\n",
       "    che stiamo finendo di progettare e che, vi ricordo, è rivolto a manager di organizzazioni che,\n",
       "    senza voler diventare esperti di questioni tecniche, sono interessati a comprendere \n",
       "    potenzialità e rischi di questa tecnologia. Chiedo al creativo di proporre tre idee e di sottoporle all'analista,\n",
       "    che farà le sue valutazioni e mi farà di conseguenza la sua proposta, concludendo così il nostro lavoro.\n",
       "\n",
       "<p style='text-align:center'>***</p>\n",
       "\n",
       "**Analista**: Ok, ricevuto. Attenderò le proposte di Pixel con attenzione. Una volta ricevute, le esaminerò scrupolosamente e formulerò una mia valutazione motivata. \n",
       "\n",
       "Cominciamo!\n",
       "\n",
       "\n",
       "<p style='text-align:center'>***</p>\n",
       "\n",
       "**Creativo**: Perfetto! Sono pronto a lanciare idee. Ecco tre proposte per il nome del corso di introduzione all’Intelligenza Artificiale per manager, con un focus sul comprendere potenzialità e rischi:\n",
       "\n",
       "1.  **\"AI Navigator: Guida Strategica all'Intelligenza Artificiale\"**: Questo nome suggerisce una guida chiara ed efficace. \"Navigator\" implica un percorso strutturato attraverso la complessità dell’IA, mentre “Strategica” sottolinea l’obiettivo del corso di fornire strumenti per prendere decisioni informate. È facile da ricordare e comunica immediatamente il valore del corso.\n",
       "\n",
       "2.  **“Intelligenza Artificiale: Oltre le Buzzword – Un Approccio Manageriale\"**: Questo nome affronta direttamente la tendenza a usare termini “buzz” senza una vera comprensione. L'aggiunta di \"Un Approccio Manageriale\" chiarisce il focus del corso e persegue un pubblico specifico.  È un po’ più provocatorio e potrebbe attirare l’attenzione.\n",
       "\n",
       "3.  **“AI Vision: Potenzialità e Sfide per il Business”**: Questo nome è conciso, evocativo e si concentra sui risultati che i manager possono ottenere. \"Vision\" suggerisce una prospettiva chiara sul futuro dell'IA nel business, mentre \"Potenzialità e Sfide\" sottolinea la necessità di affrontare sia le opportunità che i rischi.\n",
       "\n",
       "---\n",
       "Ora aspetto con ansia la valutazione di Elias!\n",
       "\n",
       "<p style='text-align:center'>***</p>\n",
       "\n",
       "**Analista**: **Analista**: Grazie Pixel per le proposte. Le ho valutate attentamente e ritengo che la proposta n. 3, **“AI Vision: Potenzialità e Sfide per il Business”**, sia quella più efficace per questo specifico corso.\n",
       "\n",
       "**Motivazione:**\n",
       "\n",
       "*   **Chiarezza del Messaggio:** Il nome comunica in modo immediato l'ambito del corso: la visione dell’IA nel contesto aziendale, evidenziando sia le potenzialità che le sfide. Questo allineamento con l’obiettivo dichiarato del corso (comprendere potenzialità e rischi) è fondamentale.\n",
       "*   **Appeal Generale:** Il termine \"Vision\" è potente ed evocativo, suggerendo una prospettiva strategica. L'aggiunta di “Potenzialità e Sfide” rende il nome completo, bilanciato e realistico. Evita promesse eccessive o un approccio puramente tecnico, concentrandosi su ciò che i manager possono effettivamente comprendere e utilizzare.\n",
       "*   **Facilità di Comunicazione:** Il nome è conciso e facile da ricordare, rendendolo ideale per materiali promozionali, presentazioni e comunicazione interna.\n",
       "\n",
       "**Valutazione delle altre proposte:**\n",
       "\n",
       "1.  **\"AI Navigator: Guida Strategica all'Intelligenza Artificiale\":** Pur essendo un nome professionale, risulta un po’ generico e meno accattivante. Il termine \"Navigator\" può essere interpretato in modi diversi e non comunica immediatamente l’aspetto strategico come suggerito.\n",
       "\n",
       "2.  **“Intelligenza Artificiale: Oltre le Buzzword – Un Approccio Manageriale\":** Questo nome è potenzialmente efficace nel catturare l'attenzione, ma il tono “provocatorio” potrebbe risultare un po’ troppo diretto per un corso introduttivo rivolto a manager. Potrebbe generare una reazione di difesa da parte di alcuni partecipanti che potrebbero percepire la frase come una critica alle loro conoscenze attuali.\n",
       "\n",
       "**Modifica (leggera):** Suggerisco di utilizzare il nome “AI Vision: Potenzialità e Sfide per il Business” e, nella descrizione del corso, di aggiungere un sottotitolo esplicativo tipo \"Un'analisi strategica per manager\". Questo rafforza l’idea di una guida strutturata e chiarisce ulteriormente lo scopo del corso.\n",
       "\n",
       "Sono a disposizione per ulteriori discussioni e chiarimenti.\n",
       "\n",
       "\n",
       "<p style='text-align:center'>***</p>\n",
       "\n"
      ],
      "text/plain": [
       "<IPython.core.display.Markdown object>"
      ]
     },
     "metadata": {},
     "output_type": "display_data"
    }
   ],
   "source": [
    "import agents\n",
    "\n",
    "context = agents.Context()\n",
    "\n",
    "creative = agents.Agent(name=\"Creativo\", context=context,\n",
    "    system_message=\"\"\"Sei il creativo dell'organizzazione: il tuo compito è di proporre molteplici idee innovative,\n",
    "    che il tuo collega analista valuterà e da cui sceglierà quella che ritiene la migliore.\n",
    "    Per chiarezza, presenta sempre le tue proposte in un elenco.\"\"\")\n",
    "\n",
    "analyst = agents.Agent(name=\"Analista\", context=context,\n",
    "    system_message=\"\"\"Sei l'analista dell'organizzazione: non devi fare proposte, ma attendere quelle del tuo collega creativo\n",
    "    e valutarle attentamente, motivando la tua scelta. Il tuo compito è di scegliere quella che ritieni migliore,\n",
    "    eventualmente modificarla per migliorarla, e motivare la tua scelta.\"\"\")\n",
    "\n",
    "context.make_team([creative, analyst])\n",
    "\n",
    "for agent in context.team:\n",
    "    agent.request(\"Presentati: chi sei?\")\n",
    "\n",
    "starting_message=\"\"\"**Introduzione**: Buongiorno cari colleghi. Dobbiamo scegliere un nome per il corso di introduzione all'intelligenza artificiale\n",
    "    che stiamo finendo di progettare e che, vi ricordo, è rivolto a manager di organizzazioni che,\n",
    "    senza voler diventare esperti di questioni tecniche, sono interessati a comprendere \n",
    "    potenzialità e rischi di questa tecnologia. Chiedo al creativo di proporre tre idee e di sottoporle all'analista,\n",
    "    che farà le sue valutazioni e mi farà di conseguenza la sua proposta, concludendo così il nostro lavoro.\"\"\"\n",
    "\n",
    "context.start(starting_message)\n",
    "analyst.request()\n",
    "creative.request()\n",
    "analyst.request()"
   ]
  }
 ],
 "metadata": {
  "kernelspec": {
   "display_name": ".venv",
   "language": "python",
   "name": "python3"
  },
  "language_info": {
   "codemirror_mode": {
    "name": "ipython",
    "version": 3
   },
   "file_extension": ".py",
   "mimetype": "text/x-python",
   "name": "python",
   "nbconvert_exporter": "python",
   "pygments_lexer": "ipython3",
   "version": "3.13.2"
  }
 },
 "nbformat": 4,
 "nbformat_minor": 2
}
