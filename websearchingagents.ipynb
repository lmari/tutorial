{
 "cells": [
  {
   "cell_type": "markdown",
   "metadata": {},
   "source": [
    "## Un esempio di esecuzione automatica di funzioni (\"_tool_\") da un modello linguistico locale\n",
    "\n",
    "Luca Mari, ottobre 2024  \n",
    "\n",
    "Quest'opera è distribuita con <a href=\"http://creativecommons.org/licenses/by-nc-sa/4.0\" target=\"_blank\">Licenza Creative Commons Attribuzione - Non commerciale - Condividi allo stesso modo 4.0 Internazionale</a>.  \n",
    "<img src=\"https://creativecommons.it/chapterIT/wp-content/uploads/2021/01/by-nc-sa.eu_.png\" width=\"100\">\n",
    "\n",
    "**Obiettivo**: comprendere qualche aspetto della logica delle architetture ad agenti e dell'esecuzione automatica di funzioni.  \n",
    "**Precompetenze**: basi di Python.\n",
    "\n",
    "> Per eseguire questo notebook, supponiamo con VSCode, occorre:\n",
    "> * installare un interprete Python\n",
    "> * scaricare da https://ollama.com e installare Ollama\n",
    "> * scaricare da Ollama un modello capace di operare con strumenti, supporremo `llama3.1:8b`:  \n",
    ">       `ollama pull llama3.1`\n",
    "> * scaricare da https://code.visualstudio.com/download e installare VSCode\n",
    "> * eseguire VSCode e attivare le estensioni per Python e Jupyter\n",
    "> * ancora in VSCode:\n",
    ">     * creare una cartella di lavoro e renderla la cartella corrente\n",
    ">     * copiare nella cartella il file di questa attività: [websearchingagents.ipynb](websearchingagents.ipynb)\n",
    ">     * aprire il notebook `websearchingagents.ipynb`\n",
    ">     * creare un ambiente virtuale locale Python (Select Kernel | Python Environments | Create Python Environment | Venv, e scegliere un interprete Python):\n",
    ">     * installare i moduli Python richiesti, eseguendo dal terminale:  \n",
    ">         `pip install pyautogen duckduckgo_search`\n",
    "> * eseguire dalla linea di comando:  \n",
    ">       `OLLAMA_MODELS=xxx OLLAMA_HOST=127.0.0.1:1234 ollama serve`  \n",
    "> dove `xxx` è la directory che contiene i modelli Ollama (in Linux potrebbe essere `/var/lib/ollama/.ollama/models`)"
   ]
  },
  {
   "cell_type": "markdown",
   "metadata": {},
   "source": [
    "Importiamo i moduli Python necessari e specifichiamo la configurazione per il modello linguistico che sarà usato (deve essere in grado di operare con strumenti) e l'indirizzo del server su cui sarà in esecuzione in locale (a sua volta, il server deve essere in grado di gestire strumenti: al momento Ollama, ma non LM Studio)."
   ]
  },
  {
   "cell_type": "code",
   "execution_count": 3,
   "metadata": {},
   "outputs": [],
   "source": [
    "import autogen\n",
    "from typing_extensions import Annotated\n",
    "from duckduckgo_search import DDGS\n",
    "\n",
    "llm_config = {\n",
    "    \"config_list\": [{ \"base_url\":\"http://localhost:1234/v1\",\n",
    "                      \"model\":\"llama3.1:8b\",\n",
    "                      \"api_key\":\"not_used\" }],\n",
    "    \"timeout\": 120,\n",
    "    \"cache_seed\": None,\n",
    "}"
   ]
  },
  {
   "cell_type": "markdown",
   "metadata": {},
   "source": [
    "Definiamo una semplice architettura con un agente di interfaccia ed esecutore (`user_proxy`) e un agente che gestisce il modello linguistico (`domain_expert`)."
   ]
  },
  {
   "cell_type": "code",
   "execution_count": 13,
   "metadata": {},
   "outputs": [],
   "source": [
    "user_proxy = autogen.UserProxyAgent(\n",
    "    name=\"interfaccia con l'utente ed esecutore di codice\",\n",
    "    is_termination_msg=(lambda msg: \"conclus\" in msg[\"content\"].lower()), # a volte potrebbe essere \"concluso\" o \"conclusa\"...\n",
    "    human_input_mode=\"NEVER\",\n",
    "    code_execution_config={\"use_docker\": False},\n",
    "    max_consecutive_auto_reply=1,\n",
    ")\n",
    "\n",
    "domain_expert = autogen.AssistantAgent(\n",
    "    name=\"esperto di dominio\",\n",
    "    system_message=\"Se ti sono richieste informazioni su libri, usa solo la funzione disponibile per la ricerca nel tuo archivio interno, senza mai ricorrere alla tua memoria. Quando hai completato la ricerca, scrivi CONCLUSO.\",\n",
    "    llm_config=llm_config,\n",
    ")"
   ]
  },
  {
   "cell_type": "markdown",
   "metadata": {},
   "source": [
    "Questa è la funzione Python che dovrebbe essere eseguita quando richiesto, resa disponibile all'agente `esperto di dominio` grazie ai decoratori (per semplicità manteniamo il contenuto dell'archivio su cui fare ricerche direttamente all'interno della funzione)."
   ]
  },
  {
   "cell_type": "code",
   "execution_count": 14,
   "metadata": {},
   "outputs": [],
   "source": [
    "@user_proxy.register_for_execution()\n",
    "@domain_expert.register_for_llm(description=\"Cerca informazioni nel web.\")\n",
    "def cerca(\n",
    "        query: Annotated[str, \"condizione di ricerca\"]\n",
    "    ) -> str:\n",
    "    return DDGS().text(query, max_results=5)"
   ]
  },
  {
   "cell_type": "markdown",
   "metadata": {},
   "source": [
    "Verifichiamo che, grazie ai decoratori, l'agente `esperto di dominio` sia stato dotato dello schema json con la dichiarazione della funzione (la documentazione dei \"tools\" per gli \"Assistants\" è qui:  \n",
    "https://platform.openai.com/docs/guides/function-calling  \n",
    "https://platform.openai.com/docs/api-reference/assistants/modifyAssistant#assistants-modifyassistant-tools)."
   ]
  },
  {
   "cell_type": "code",
   "execution_count": 15,
   "metadata": {},
   "outputs": [
    {
     "data": {
      "text/plain": [
       "[{'type': 'function',\n",
       "  'function': {'description': 'Cerca informazioni nel web.',\n",
       "   'name': 'cerca',\n",
       "   'parameters': {'type': 'object',\n",
       "    'properties': {'query': {'type': 'string',\n",
       "      'description': 'condizione di ricerca'}},\n",
       "    'required': ['query']}}}]"
      ]
     },
     "execution_count": 15,
     "metadata": {},
     "output_type": "execute_result"
    }
   ],
   "source": [
    "domain_expert.llm_config[\"tools\"]"
   ]
  },
  {
   "cell_type": "markdown",
   "metadata": {},
   "source": [
    "Ecco dunque un esempio di uso di questa architettura."
   ]
  },
  {
   "cell_type": "code",
   "execution_count": 16,
   "metadata": {},
   "outputs": [
    {
     "name": "stdout",
     "output_type": "stream",
     "text": [
      "\u001b[33minterfaccia con l'utente ed esecutore di codice\u001b[0m (to esperto di dominio):\n",
      "\n",
      "Com'è definita l'unità di misura Joule?\n",
      "\n",
      "--------------------------------------------------------------------------------\n",
      "Com'è definita l'unità di misura Joule?\n",
      "\n",
      "--------------------------------------------------------------------------------\n",
      "[autogen.oai.client: 10-04 14:49:05] {349} WARNING - Model llama3.1:8b is not found. The cost will be 0. In your config_list, add field {\"price\" : [prompt_price_per_1k, completion_token_price_per_1k]} for customized pricing.\n",
      "\u001b[33mesperto di dominio\u001b[0m (to interfaccia con l'utente ed esecutore di codice):\n",
      "\n",
      "\n",
      "\u001b[32m***** Suggested tool call (call_a8xbwhyu): cerca *****\u001b[0m\n",
      "Arguments: \n",
      "{\"query\":\"definizione joule\"}\n",
      "\u001b[32m******************************************************\u001b[0m\n",
      "\n",
      "--------------------------------------------------------------------------------\n",
      "\u001b[35m\n",
      ">>>>>>>> EXECUTING FUNCTION cerca...\u001b[0m\n",
      "\u001b[33minterfaccia con l'utente ed esecutore di codice\u001b[0m (to esperto di dominio):\n",
      "\n",
      "\u001b[33minterfaccia con l'utente ed esecutore di codice\u001b[0m (to esperto di dominio):\n",
      "\n",
      "\u001b[32m***** Response from calling tool (call_a8xbwhyu) *****\u001b[0m\n",
      "[{\"title\": \"Joule - Wikipedia\", \"href\": \"https://it.wikipedia.org/wiki/Joule\", \"body\": \"Un joule può essere definito come il lavoro svolto esercitando la forza di un newton per una distanza di un metro, perciò la stessa quantità può essere riferita come newton metro. Comunque, per evitare confusione, il newton metro è tipicamente usato come la misura del momento meccanico e non dell'energia.\"}, {\"title\": \"Joule - Wikipedia\", \"href\": \"https://en.wikipedia.org/wiki/Joule\", \"body\": \"The joule (pronounced / ˈdʒuːl /, JOOL or / ˈdʒaʊl / JOWL; symbol: J) is the unit of energy in the International System of Units (SI). [1] It is equal to the amount of work done when a force of one newton displaces a mass through a distance of one metre in the direction of that force. It is also the energy dissipated as heat when an ...\"}, {\"title\": \"joule - unità di misura - YouMath\", \"href\": \"https://www.youmath.it/lezioni/fisica/unita-di-misura/misure-lavoro-energia-calore/3079-joule-unita-di-misura.html\", \"body\": \"Il joule (simbolo J): definizione del joule unità di misura di lavoro, energia e calore; spiegazione ed esempi di conversioni con il joule.\"}, {\"title\": \"What Is a Joule? Science Definition - ThoughtCo\", \"href\": \"https://www.thoughtco.com/definition-of-joule-604543\", \"body\": \"Learn the definition of a joule, a basic unit of energy used in chemistry, chemical engineering, and physics, plus learn what a joule is equal to.\"}, {\"title\": \"Joule | Definition & Formula | Britannica\", \"href\": \"https://www.britannica.com/science/joule\", \"body\": \"Joule, unit of work or energy that is equal to the work done by a force of one newton acting through one meter.\"}]\n",
      "\u001b[32m******************************************************\u001b[0m\n",
      "\n",
      "--------------------------------------------------------------------------------\n",
      "[autogen.oai.client: 10-04 14:49:41] {349} WARNING - Model llama3.1:8b is not found. The cost will be 0. In your config_list, add field {\"price\" : [prompt_price_per_1k, completion_token_price_per_1k]} for customized pricing.\n",
      "\u001b[33mesperto di dominio\u001b[0m (to interfaccia con l'utente ed esecutore di codice):\n",
      "\n",
      "CONCLUSO.\n",
      "\n",
      "L'unità di misura Joule è definita come il lavoro svolto esercitando la forza di un newton per una distanza di un metro.\n",
      "\n",
      "--------------------------------------------------------------------------------\n"
     ]
    }
   ],
   "source": [
    "domain_expert.reset()\n",
    "res = user_proxy.initiate_chat(domain_expert, message=\"Com'è definita l'unità di misura Joule?\")"
   ]
  },
  {
   "cell_type": "markdown",
   "metadata": {},
   "source": [
    "E questa è la ricostruzione della conversazione tra i due agenti."
   ]
  },
  {
   "cell_type": "code",
   "execution_count": 17,
   "metadata": {},
   "outputs": [
    {
     "name": "stdout",
     "output_type": "stream",
     "text": [
      "[{'content': \"Com'è definita l'unità di misura Joule?\",\n",
      "  'name': \"interfaccia con l'utente ed esecutore di codice\",\n",
      "  'role': 'assistant'},\n",
      " {'content': '',\n",
      "  'role': 'assistant',\n",
      "  'tool_calls': [{'function': {'arguments': '{\"query\":\"definizione joule\"}',\n",
      "                               'name': 'cerca'},\n",
      "                  'id': 'call_a8xbwhyu',\n",
      "                  'type': 'function'}]},\n",
      " {'content': '[{\"title\": \"Joule - Wikipedia\", \"href\": '\n",
      "             '\"https://it.wikipedia.org/wiki/Joule\", \"body\": \"Un joule può '\n",
      "             'essere definito come il lavoro svolto esercitando la forza di un '\n",
      "             'newton per una distanza di un metro, perciò la stessa quantità '\n",
      "             'può essere riferita come newton metro. Comunque, per evitare '\n",
      "             'confusione, il newton metro è tipicamente usato come la misura '\n",
      "             'del momento meccanico e non dell\\'energia.\"}, {\"title\": \"Joule - '\n",
      "             'Wikipedia\", \"href\": \"https://en.wikipedia.org/wiki/Joule\", '\n",
      "             '\"body\": \"The joule (pronounced / ˈdʒuːl /, JOOL or / ˈdʒaʊl / '\n",
      "             'JOWL; symbol: J) is the unit of energy in the International '\n",
      "             'System of Units (SI). [1] It is equal to the amount of work done '\n",
      "             'when a force of one newton displaces a mass through a distance '\n",
      "             'of one metre in the direction of that force. It is also the '\n",
      "             'energy dissipated as heat when an ...\"}, {\"title\": \"joule - '\n",
      "             'unità di misura - YouMath\", \"href\": '\n",
      "             '\"https://www.youmath.it/lezioni/fisica/unita-di-misura/misure-lavoro-energia-calore/3079-joule-unita-di-misura.html\", '\n",
      "             '\"body\": \"Il joule (simbolo J): definizione del joule unità di '\n",
      "             'misura di lavoro, energia e calore; spiegazione ed esempi di '\n",
      "             'conversioni con il joule.\"}, {\"title\": \"What Is a Joule? Science '\n",
      "             'Definition - ThoughtCo\", \"href\": '\n",
      "             '\"https://www.thoughtco.com/definition-of-joule-604543\", \"body\": '\n",
      "             '\"Learn the definition of a joule, a basic unit of energy used in '\n",
      "             'chemistry, chemical engineering, and physics, plus learn what a '\n",
      "             'joule is equal to.\"}, {\"title\": \"Joule | Definition & Formula | '\n",
      "             'Britannica\", \"href\": \"https://www.britannica.com/science/joule\", '\n",
      "             '\"body\": \"Joule, unit of work or energy that is equal to the work '\n",
      "             'done by a force of one newton acting through one meter.\"}]',\n",
      "  'name': \"interfaccia con l'utente ed esecutore di codice\",\n",
      "  'role': 'tool',\n",
      "  'tool_responses': [{'content': '[{\"title\": \"Joule - Wikipedia\", \"href\": '\n",
      "                                 '\"https://it.wikipedia.org/wiki/Joule\", '\n",
      "                                 '\"body\": \"Un joule può essere definito come '\n",
      "                                 'il lavoro svolto esercitando la forza di un '\n",
      "                                 'newton per una distanza di un metro, perciò '\n",
      "                                 'la stessa quantità può essere riferita come '\n",
      "                                 'newton metro. Comunque, per evitare '\n",
      "                                 'confusione, il newton metro è tipicamente '\n",
      "                                 'usato come la misura del momento meccanico e '\n",
      "                                 'non dell\\'energia.\"}, {\"title\": \"Joule - '\n",
      "                                 'Wikipedia\", \"href\": '\n",
      "                                 '\"https://en.wikipedia.org/wiki/Joule\", '\n",
      "                                 '\"body\": \"The joule (pronounced / ˈdʒuːl /, '\n",
      "                                 'JOOL or / ˈdʒaʊl / JOWL; symbol: J) is the '\n",
      "                                 'unit of energy in the International System '\n",
      "                                 'of Units (SI). [1] It is equal to the amount '\n",
      "                                 'of work done when a force of one newton '\n",
      "                                 'displaces a mass through a distance of one '\n",
      "                                 'metre in the direction of that force. It is '\n",
      "                                 'also the energy dissipated as heat when an '\n",
      "                                 '...\"}, {\"title\": \"joule - unità di misura - '\n",
      "                                 'YouMath\", \"href\": '\n",
      "                                 '\"https://www.youmath.it/lezioni/fisica/unita-di-misura/misure-lavoro-energia-calore/3079-joule-unita-di-misura.html\", '\n",
      "                                 '\"body\": \"Il joule (simbolo J): definizione '\n",
      "                                 'del joule unità di misura di lavoro, energia '\n",
      "                                 'e calore; spiegazione ed esempi di '\n",
      "                                 'conversioni con il joule.\"}, {\"title\": \"What '\n",
      "                                 'Is a Joule? Science Definition - ThoughtCo\", '\n",
      "                                 '\"href\": '\n",
      "                                 '\"https://www.thoughtco.com/definition-of-joule-604543\", '\n",
      "                                 '\"body\": \"Learn the definition of a joule, a '\n",
      "                                 'basic unit of energy used in chemistry, '\n",
      "                                 'chemical engineering, and physics, plus '\n",
      "                                 'learn what a joule is equal to.\"}, {\"title\": '\n",
      "                                 '\"Joule | Definition & Formula | Britannica\", '\n",
      "                                 '\"href\": '\n",
      "                                 '\"https://www.britannica.com/science/joule\", '\n",
      "                                 '\"body\": \"Joule, unit of work or energy that '\n",
      "                                 'is equal to the work done by a force of one '\n",
      "                                 'newton acting through one meter.\"}]',\n",
      "                      'role': 'tool',\n",
      "                      'tool_call_id': 'call_a8xbwhyu'}]},\n",
      " {'content': 'CONCLUSO.\\n'\n",
      "             '\\n'\n",
      "             \"L'unità di misura Joule è definita come il lavoro svolto \"\n",
      "             'esercitando la forza di un newton per una distanza di un metro.',\n",
      "  'name': 'esperto di dominio',\n",
      "  'role': 'user'}]\n"
     ]
    }
   ],
   "source": [
    "from pprint import pprint\n",
    "pprint(res.chat_history)"
   ]
  },
  {
   "cell_type": "markdown",
   "metadata": {},
   "source": [
    "È un semplice ma già interessante esempio (modello linguistico di piccole dimensioni, esecuzione locale, in italiano...) di un mix tra un \"Sistema 1\" (il modello linguistico stesso) e un \"Sistema 2\" (la funzione Python)."
   ]
  }
 ],
 "metadata": {
  "kernelspec": {
   "display_name": ".venv",
   "language": "python",
   "name": "python3"
  },
  "language_info": {
   "codemirror_mode": {
    "name": "ipython",
    "version": 3
   },
   "file_extension": ".py",
   "mimetype": "text/x-python",
   "name": "python",
   "nbconvert_exporter": "python",
   "pygments_lexer": "ipython3",
   "version": "3.12.5"
  }
 },
 "nbformat": 4,
 "nbformat_minor": 2
}
