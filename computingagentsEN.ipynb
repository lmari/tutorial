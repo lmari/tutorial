{
 "cells": [
  {
   "cell_type": "code",
   "execution_count": 3,
   "metadata": {},
   "outputs": [],
   "source": [
    "import autogen\n",
    "import math\n",
    "from typing_extensions import Annotated\n",
    "\n",
    "llm_config = {\n",
    "    \"config_list\": [{ \"base_url\":\"http://localhost:1234/v1\",\n",
    "                      \"model\":\"llama3.1:8b\",\n",
    "                      \"api_key\":\"not_used\" }],\n",
    "    \"timeout\": 120,\n",
    "    \"cache_seed\": None,\n",
    "}"
   ]
  },
  {
   "cell_type": "code",
   "execution_count": 9,
   "metadata": {},
   "outputs": [],
   "source": [
    "user_proxy = autogen.UserProxyAgent(\n",
    "    name=\"Interface with the user and code executor\",\n",
    "    is_termination_msg=(lambda msg: \"conclude\" in msg[\"content\"].lower()),\n",
    "    human_input_mode=\"NEVER\",\n",
    "    code_execution_config={\"use_docker\": False},\n",
    "    max_consecutive_auto_reply=2,\n",
    ")\n",
    "\n",
    "domain_expert = autogen.AssistantAgent(\n",
    "    name=\"Domain expert\",\n",
    "    llm_config=llm_config,\n",
    "    system_message=\"\"\"\n",
    "    If you have to compute a mathematical function, like a square root, always use the the related function, if available.\n",
    "    When you think that the achieved result is satisfactory, write 'CONCLUDED'.\n",
    "    \"\"\"\n",
    ")"
   ]
  },
  {
   "cell_type": "code",
   "execution_count": 10,
   "metadata": {},
   "outputs": [],
   "source": [
    "@user_proxy.register_for_execution()\n",
    "@domain_expert.register_for_llm(description=\"Function to compute a square root.\")\n",
    "def square_root_calculator(\n",
    "        number: Annotated[float, \"Number of which the square root is to be computed\"],\n",
    "    ) -> str:\n",
    "    number = float(number)\n",
    "    if number >= 0:\n",
    "        return f\"The square root of {number} is {math.sqrt(number):.4f}\"\n",
    "    raise ValueError(f\"The square root of the negative number {number} cannot be computed\")"
   ]
  },
  {
   "cell_type": "code",
   "execution_count": 11,
   "metadata": {},
   "outputs": [
    {
     "data": {
      "text/plain": [
       "[{'type': 'function',\n",
       "  'function': {'description': 'Function to compute a square root.',\n",
       "   'name': 'square_root_calculator',\n",
       "   'parameters': {'type': 'object',\n",
       "    'properties': {'number': {'type': 'number',\n",
       "      'description': 'Number of which the square root is to be computed'}},\n",
       "    'required': ['number']}}}]"
      ]
     },
     "execution_count": 11,
     "metadata": {},
     "output_type": "execute_result"
    }
   ],
   "source": [
    "domain_expert.llm_config[\"tools\"] # check the JSON configuration"
   ]
  },
  {
   "cell_type": "code",
   "execution_count": 12,
   "metadata": {},
   "outputs": [
    {
     "name": "stdout",
     "output_type": "stream",
     "text": [
      "\u001b[33mInterface with the user and code executor\u001b[0m (to Domain expert):\n",
      "\n",
      "What is the square root of 1234.56789?\n",
      "\n",
      "--------------------------------------------------------------------------------\n",
      "[autogen.oai.client: 10-13 17:09:37] {409} WARNING - Model llama3.1:8b is not found. The cost will be 0. In your config_list, add field {\"price\" : [prompt_price_per_1k, completion_token_price_per_1k]} for customized pricing.\n",
      "\u001b[33mDomain expert\u001b[0m (to Interface with the user and code executor):\n",
      "\n",
      "\n",
      "\u001b[32m***** Suggested tool call (call_8dzfbe8a): square_root_calculator *****\u001b[0m\n",
      "Arguments: \n",
      "{\"number\":\"1234.56789\"}\n",
      "\u001b[32m***********************************************************************\u001b[0m\n",
      "\n",
      "--------------------------------------------------------------------------------\n",
      "\u001b[35m\n",
      ">>>>>>>> EXECUTING FUNCTION square_root_calculator...\u001b[0m\n",
      "\u001b[33mInterface with the user and code executor\u001b[0m (to Domain expert):\n",
      "\n",
      "\u001b[33mInterface with the user and code executor\u001b[0m (to Domain expert):\n",
      "\n",
      "\u001b[32m***** Response from calling tool (call_8dzfbe8a) *****\u001b[0m\n",
      "The square root of 1234.56789 is 35.1364\n",
      "\u001b[32m******************************************************\u001b[0m\n",
      "\n",
      "--------------------------------------------------------------------------------\n",
      "[autogen.oai.client: 10-13 17:09:39] {409} WARNING - Model llama3.1:8b is not found. The cost will be 0. In your config_list, add field {\"price\" : [prompt_price_per_1k, completion_token_price_per_1k]} for customized pricing.\n",
      "\u001b[33mDomain expert\u001b[0m (to Interface with the user and code executor):\n",
      "\n",
      "CONCLUDED.\n",
      "\n",
      "Note: I used the `math.sqrt()` function in Python to compute the square root.\n",
      "\n",
      "--------------------------------------------------------------------------------\n"
     ]
    }
   ],
   "source": [
    "domain_expert.reset()\n",
    "res = user_proxy.initiate_chat(domain_expert, message=\"What is the square root of 1234.56789?\")"
   ]
  },
  {
   "cell_type": "code",
   "execution_count": 13,
   "metadata": {},
   "outputs": [
    {
     "name": "stdout",
     "output_type": "stream",
     "text": [
      "[{'content': 'What is the square root of 1234.56789?',\n",
      "  'name': 'Interface with the user and code executor',\n",
      "  'role': 'assistant'},\n",
      " {'content': '',\n",
      "  'role': 'assistant',\n",
      "  'tool_calls': [{'function': {'arguments': '{\"number\":\"1234.56789\"}',\n",
      "                               'name': 'square_root_calculator'},\n",
      "                  'id': 'call_8dzfbe8a',\n",
      "                  'type': 'function'}]},\n",
      " {'content': 'The square root of 1234.56789 is 35.1364',\n",
      "  'name': 'Interface with the user and code executor',\n",
      "  'role': 'tool',\n",
      "  'tool_responses': [{'content': 'The square root of 1234.56789 is 35.1364',\n",
      "                      'role': 'tool',\n",
      "                      'tool_call_id': 'call_8dzfbe8a'}]},\n",
      " {'content': 'CONCLUDED.\\n'\n",
      "             '\\n'\n",
      "             'Note: I used the `math.sqrt()` function in Python to compute the '\n",
      "             'square root.',\n",
      "  'name': 'Domain expert',\n",
      "  'role': 'user'}]\n"
     ]
    }
   ],
   "source": [
    "from pprint import pprint\n",
    "pprint(res.chat_history)"
   ]
  }
 ],
 "metadata": {
  "kernelspec": {
   "display_name": ".venv",
   "language": "python",
   "name": "python3"
  },
  "language_info": {
   "codemirror_mode": {
    "name": "ipython",
    "version": 3
   },
   "file_extension": ".py",
   "mimetype": "text/x-python",
   "name": "python",
   "nbconvert_exporter": "python",
   "pygments_lexer": "ipython3",
   "version": "3.12.5"
  }
 },
 "nbformat": 4,
 "nbformat_minor": 2
}
