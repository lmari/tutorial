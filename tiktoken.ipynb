{
 "cells": [
  {
   "cell_type": "markdown",
   "metadata": {},
   "source": [
    "pip install --upgrade tiktoken"
   ]
  },
  {
   "cell_type": "code",
   "execution_count": 39,
   "metadata": {},
   "outputs": [
    {
     "name": "stdout",
     "output_type": "stream",
     "text": [
      "I tokenizzatori / embedder disponibili sono:\n",
      "['gpt2', 'r50k_base', 'p50k_base', 'p50k_edit', 'cl100k_base', 'o200k_base']\n",
      "\n",
      "Il vocabulario di 'o200k_base' ha 200019 token\n"
     ]
    }
   ],
   "source": [
    "import tiktoken\n",
    "\n",
    "print(f'I tokenizzatori / embedder disponibili sono:\\n{tiktoken.list_encoding_names()}')\n",
    "encoder_id = 'o200k_base'\n",
    "tokenizer = tiktoken.get_encoding(encoder_id)\n",
    "# in alternativa si può specificare il nome del modello:\n",
    "#tokenizer = tiktoken.encoding_for_model('gpt-4o')\n",
    "\n",
    "print(f\"\\nIl vocabulario di '{encoder_id}' ha {tokenizer.n_vocab} token\")"
   ]
  },
  {
   "cell_type": "markdown",
   "metadata": {},
   "source": [
    "| Il vocabulario di | è | e ha |\n",
    "|---|---|---|\n",
    "| gpt-2 | r50k_base | 50257 token |\n",
    "| gpt-3.5 e gpt-4 | cl100k_base | 100277 token |\n",
    "| gpt-4o | o200k_base | 200019 token |"
   ]
  },
  {
   "cell_type": "code",
   "execution_count": 51,
   "metadata": {},
   "outputs": [
    {
     "data": {
      "text/plain": [
       "30744"
      ]
     },
     "execution_count": 51,
     "metadata": {},
     "output_type": "execute_result"
    }
   ],
   "source": [
    "tokenizer.encode_single_token('good')"
   ]
  },
  {
   "cell_type": "code",
   "execution_count": 54,
   "metadata": {},
   "outputs": [
    {
     "name": "stdout",
     "output_type": "stream",
     "text": [
      "Il testo originale: La bellezza salverà il mondo.\n",
      "Gli id dei token: [4579, 1912, 168053, 2370, 445, 708, 1793, 57990, 13]\n",
      "I token: ['La', ' bel', 'lezza', ' sal', 'ver', 'à', ' il', ' mondo', '.']\n",
      "I token decodificati: La bellezza salverà il mondo.\n"
     ]
    }
   ],
   "source": [
    "text = \"La bellezza salverà il mondo.\"\n",
    "\n",
    "print(f'Il testo originale: {text}')\n",
    "\n",
    "tokens = tokenizer.encode(text)\n",
    "print(f'Gli id dei token: {tokens}')\n",
    "print(f'I token: {[token.decode('utf-8') for token in tokenizer.decode_tokens_bytes(tokens)]}')\n",
    "\n",
    "decoded = tokenizer.decode(tokens)\n",
    "print(f'I token decodificati: {decoded}')"
   ]
  },
  {
   "cell_type": "markdown",
   "metadata": {},
   "source": [
    "Nota che tiktoken non contiene funzioni per calcolare i vettori di embedding dei token: per questo occorre un modello."
   ]
  }
 ],
 "metadata": {
  "kernelspec": {
   "display_name": ".venv",
   "language": "python",
   "name": "python3"
  },
  "language_info": {
   "codemirror_mode": {
    "name": "ipython",
    "version": 3
   },
   "file_extension": ".py",
   "mimetype": "text/x-python",
   "name": "python",
   "nbconvert_exporter": "python",
   "pygments_lexer": "ipython3",
   "version": "3.13.2"
  }
 },
 "nbformat": 4,
 "nbformat_minor": 2
}
