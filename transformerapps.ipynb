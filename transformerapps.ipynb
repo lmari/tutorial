{
 "cells": [
  {
   "cell_type": "markdown",
   "metadata": {
    "id": "e9ZhCh9jQdVX"
   },
   "source": [
    "# Qualche esempio di uso dei transformer per il NLP\n",
    "\n",
    "Luca Mari, gennaio 2025  \n",
    "\n",
    "Quest'opera è distribuita con <a href=\"http://creativecommons.org/licenses/by-nc-sa/4.0\" target=\"_blank\">Licenza Creative Commons Attribuzione - Non commerciale - Condividi allo stesso modo 4.0 Internazionale</a>.  \n",
    "<img src=\"https://creativecommons.it/chapterIT/wp-content/uploads/2021/01/by-nc-sa.eu_.png\" width=\"100\">\n",
    "\n",
    "**Obiettivo**: essere informati di alcune possibili modalità di uso \"di alto livello\" dei trasformer per applicazioni con testi in lingua italiana e della libreria Python `transformers` di Hugging Face.  \n",
    "**Precompetenze**: basi di Python.\n",
    "\n",
    "> Per eseguire questo notebook con VSCode sul proprio calcolatore, occorre:\n",
    "> * installare un interprete Python\n",
    "> * scaricare da https://code.visualstudio.com/download e installare VSCode\n",
    "> * eseguire VSCode e attivare le estensioni per Python e Jupyter\n",
    "> * ancora in VSCode:\n",
    ">     * creare una cartella di lavoro e renderla la cartella corrente\n",
    ">     * copiare nella cartella il file di questa attività: [transformerapps.ipynb](transformerapps.ipynb)\n",
    ">     * aprire il notebook `transformerapps.ipynb`\n",
    ">     * creare un ambiente virtuale locale Python (Select Kernel | Python Environments | Create Python Environment | Venv, e scegliere un interprete Python):\n",
    ">     * installare i moduli Python richiesti, eseguendo dal terminale:  \n",
    ">         `pip install transformers torch sentencepiece protobuf`\n",
    "\n",
    "**Indice**  \n",
    "[1. Part-of-Speech (POS) tagging](#s1)  \n",
    "[2. Sentiment analysis](#s2)  \n",
    "[3. Zero-shot classification](#s3)  \n",
    "[4. Named Entity Recognition (NER)](#s4)  \n",
    "[5. Fill mask](#s5)  \n",
    "[6. Question answering](#s6)  \n",
    "[7. Text generation (completamento)](#s7)  \n",
    "[8. Translation](#s8)  \n",
    "[9. Text generation (Q&A)](#s9)"
   ]
  },
  {
   "cell_type": "markdown",
   "metadata": {
    "id": "ch1W02NLQdVZ"
   },
   "source": [
    "Sappiamo che con sistemi come `ChatGPT` possiamo dialogare liberamente e in molte lingue. Grazie al modulo Python `transformers` di Hugging Face (https://huggingface.co/docs/transformers) e ai tanti modelli accessibili e scaricabili liberamente da Hugging Face stesso, con poche linee di codice Python è possibile costruire applicazioni con funzionalità specifiche, anche in grado di trattare testi in lingua italiana con una qualità spesso accettabile.\n",
    "\n",
    "I modelli in questione sono spesso di dimensioni relativamente piccole, e perciò possono essere eseguiti in locale. Anche se condividono la stessa architettura di base -- perché sono tutti transformer --, sono tipicamente addestrati per applicazioni specifiche.\n",
    "\n",
    "Nel seguito mostriamo alcuni esempi, per ognuno dei quali usiamo un modello appropriato."
   ]
  },
  {
   "cell_type": "markdown",
   "metadata": {},
   "source": [
    "Per prima cosa importiamo i moduli Python che useremo e specifichiamo che, per semplicità, faremo eseguire il codice sempre in CPU anche nel caso una GPU sia disponibile."
   ]
  },
  {
   "cell_type": "code",
   "execution_count": 1,
   "metadata": {},
   "outputs": [],
   "source": [
    "from transformers import pipeline, AutoTokenizer, AutoModel\n",
    "import numpy as np\n",
    "import matplotlib.pyplot as plt\n",
    "from pprint import pprint\n",
    "import textwrap\n",
    "from IPython.display import Markdown, display\n",
    "import logging\n",
    "from transformers import logging as transformers_logging\n",
    "\n",
    "logging.basicConfig(level=logging.ERROR)\n",
    "transformers_logging.set_verbosity_error()\n",
    "\n",
    "device = \"cpu\"\n",
    "\n",
    "def info(model):\n",
    "    print('Modello con:')\n",
    "    tokenizer = AutoTokenizer.from_pretrained(model)\n",
    "    print(f'-- un vocabolario di {tokenizer.vocab_size} token')\n",
    "    x = tokenizer.model_max_length\n",
    "    print(f'-- un contesto di {x} token') if x < 1e12 else print('-- un contesto di lunghezza non definita')\n",
    "    transformer = AutoModel.from_pretrained(model)\n",
    "    model_parameters = filter(lambda p: p.requires_grad, transformer.parameters())\n",
    "    y = sum([np.prod(p.size()) for p in model_parameters])\n",
    "    z = f\"{(y / 1e9):.2f}B\" if y > 1e9 else f\"{int(y / 1e6)}M\"\n",
    "    print(f'-- {z} parametri\\n')\n",
    "\n",
    "def wprint(text, width=120):\n",
    "    print(textwrap.fill(text, width=width))\n",
    "\n",
    "def printmd(string):\n",
    "    display(Markdown(string))"
   ]
  },
  {
   "cell_type": "markdown",
   "metadata": {},
   "source": [
    "<a id=\"s1\"></a>\n",
    "### 1. Part-of-Speech (POS) tagging\n",
    "(modello https://huggingface.co/sachaarbonel/bert-italian-cased-finetuned-pos)"
   ]
  },
  {
   "cell_type": "code",
   "execution_count": 2,
   "metadata": {},
   "outputs": [
    {
     "name": "stdout",
     "output_type": "stream",
     "text": [
      "Modello con:\n",
      "-- un vocabolario di 31102 token\n",
      "-- un contesto di 512 token\n",
      "-- 109M parametri\n",
      "\n",
      "Frase da analizzare:\n",
      "\"Abbiamo partecipato a una lezione interessante.\"\n",
      "\n",
      "Parti del discorso individuate:\n",
      "{'entity': 'AUX', 'score': 0.9989906, 'index': 1, 'word': 'abbiamo', 'start': 0, 'end': 7}\n",
      "{'entity': 'VERB', 'score': 0.99978894, 'index': 2, 'word': 'partecipato', 'start': 8, 'end': 19}\n",
      "{'entity': 'ADP', 'score': 0.99955493, 'index': 3, 'word': 'a', 'start': 20, 'end': 21}\n",
      "{'entity': 'DET', 'score': 0.99955136, 'index': 4, 'word': 'una', 'start': 22, 'end': 25}\n",
      "{'entity': 'NOUN', 'score': 0.9997603, 'index': 5, 'word': 'lezione', 'start': 26, 'end': 33}\n",
      "{'entity': 'ADJ', 'score': 0.99962294, 'index': 6, 'word': 'interessante', 'start': 34, 'end': 46}\n",
      "{'entity': 'PUNCT', 'score': 0.9856426, 'index': 7, 'word': '.', 'start': 46, 'end': 47}\n"
     ]
    }
   ],
   "source": [
    "model = \"sachaarbonel/bert-italian-cased-finetuned-pos\"\n",
    "info(model)\n",
    "pos = pipeline(\"token-classification\", model=model, device=device)\n",
    "sentence = \"Abbiamo partecipato a una lezione interessante.\"\n",
    "res = pos(sentence)\n",
    "\n",
    "if res is not None:\n",
    "    print(f'Frase da analizzare:\\n\"{sentence}\"')\n",
    "    print('\\nParti del discorso individuate:')\n",
    "    for part in res:\n",
    "        print(part)"
   ]
  },
  {
   "cell_type": "markdown",
   "metadata": {},
   "source": [
    "<a id=\"s2\"></a>\n",
    "### 2. Sentiment analysis\n",
    "(modello https://huggingface.co/nlptown/bert-base-multilingual-uncased-sentiment)"
   ]
  },
  {
   "cell_type": "code",
   "execution_count": 3,
   "metadata": {},
   "outputs": [
    {
     "name": "stdout",
     "output_type": "stream",
     "text": [
      "Modello con:\n",
      "-- un vocabolario di 105879 token\n",
      "-- un contesto di 512 token\n",
      "-- 167M parametri\n",
      "\n",
      "Frase da analizzare:\n",
      "\"Questa lezione è stata chiara ma non così interessante\"\n",
      "\n",
      "Valutazione:\n",
      "[{'label': '1 star', 'score': 0.04},\n",
      " {'label': '2 stars', 'score': 0.22},\n",
      " {'label': '3 stars', 'score': 0.61},\n",
      " {'label': '4 stars', 'score': 0.11},\n",
      " {'label': '5 stars', 'score': 0.01}]\n"
     ]
    },
    {
     "data": {
      "image/png": "[encoded data removed]",
      "text/plain": [
       "<Figure size 640x480 with 1 Axes>"
      ]
     },
     "metadata": {},
     "output_type": "display_data"
    }
   ],
   "source": [
    "model = 'nlptown/bert-base-multilingual-uncased-sentiment'\n",
    "info(model)\n",
    "classifier = pipeline(\"sentiment-analysis\", model=model, device=device)\n",
    "sentence = \"Ho trovato molto attraente questa lezione\"\n",
    "res = classifier(sentence, top_k=None)\n",
    "\n",
    "if res:\n",
    "    print(f'Frase da analizzare:\\n\"{sentence}\"')\n",
    "    print('\\nValutazione:')\n",
    "    res = sorted(res, key=lambda x: x['label']) # type: ignore\n",
    "    pprint(res)\n",
    "\n",
    "    labels = [r['label'] for r in res]\n",
    "    scores = [r['score'] for r in res]\n",
    "    plt.bar(labels, scores)\n",
    "    plt.title(sentence)\n",
    "    plt.show()"
   ]
  },
  {
   "cell_type": "markdown",
   "metadata": {},
   "source": [
    "<a id=\"s3\"></a>\n",
    "### 3. Zero-shot classification\n",
    "(modello https://huggingface.co/Jiva/xlm-roberta-large-it-mnli)"
   ]
  },
  {
   "cell_type": "code",
   "execution_count": 4,
   "metadata": {},
   "outputs": [
    {
     "name": "stdout",
     "output_type": "stream",
     "text": [
      "Modello con:\n",
      "-- un vocabolario di 250002 token\n",
      "-- un contesto di 512 token\n",
      "-- 559M parametri\n",
      "\n",
      "Frase da analizzare:\n",
      "\"In questa lezione abbiamo parlato di Alan Turing\"\n",
      "\n",
      "Categorie:\n",
      "\"['economia', 'geografia', 'politica', 'sport', 'storia', 'tecnologia']\"\n",
      "\n",
      "Classificazione:\n",
      "[('tecnologia', 0.39),\n",
      " ('storia', 0.23),\n",
      " ('geografia', 0.11),\n",
      " ('politica', 0.1),\n",
      " ('economia', 0.08),\n",
      " ('sport', 0.08)]\n"
     ]
    },
    {
     "data": {
      "image/png": "[encoded data removed]",
      "text/plain": [
       "<Figure size 640x480 with 1 Axes>"
      ]
     },
     "metadata": {},
     "output_type": "display_data"
    }
   ],
   "source": [
    "model = 'Jiva/xlm-roberta-large-it-mnli'\n",
    "info(model)\n",
    "classifier = pipeline(\"zero-shot-classification\", model=model, device=device)\n",
    "sentence = \"In questa lezione abbiamo presentato l'orografia del territorio italiano\"\n",
    "candidate_labels = [\"economia\", \"geografia\", \"politica\", \"sport\", \"storia\", \"tecnologia\"]\n",
    "res = classifier(sentence, candidate_labels=candidate_labels)\n",
    "\n",
    "if res:\n",
    "    print(f'Frase da analizzare:\\n\"{sentence}\"')\n",
    "    print('\\nClassificazione:')\n",
    "    res = zip(res['labels'], res['scores']) # type: ignore\n",
    "    res = sorted(res, key=lambda x: x[0]) # type: ignore\n",
    "    pprint(res)\n",
    "\n",
    "    labels = [r[0] for r in res]\n",
    "    scores = [r[1] for r in res]\n",
    "    plt.bar(labels, scores)\n",
    "    plt.title(sentence)\n",
    "    plt.show()"
   ]
  },
  {
   "cell_type": "markdown",
   "metadata": {},
   "source": [
    "<a id=\"s4\"></a>\n",
    "### 4. Named Entity Recognition (NER)\n",
    "(modello https://huggingface.co/osiria/deberta-base-italian-uncased-ner)"
   ]
  },
  {
   "cell_type": "code",
   "execution_count": 5,
   "metadata": {},
   "outputs": [
    {
     "name": "stdout",
     "output_type": "stream",
     "text": [
      "Modello con:\n",
      "-- un vocabolario di 50273 token\n",
      "-- un contesto di lunghezza non definita\n",
      "-- 124M parametri\n",
      "\n",
      "Frase da analizzare:\n",
      "\"Questa lezione ha riguardato Alan Turing e il suo lavoro a Cambridge e poi per decodificare Enigma\"\n",
      "\n",
      "Entità individuate:\n",
      "{'entity_group': 'PER', 'score': 0.8034604, 'word': 'Alan Turing', 'start': 28, 'end': 40}\n",
      "{'entity_group': 'LOC', 'score': 0.88072294, 'word': 'Cambridge', 'start': 58, 'end': 68}\n",
      "{'entity_group': 'MISC', 'score': 0.942005, 'word': 'Enigma', 'start': 91, 'end': 98}\n"
     ]
    }
   ],
   "source": [
    "model = 'osiria/deberta-base-italian-uncased-ner'\n",
    "info(model)\n",
    "ner = pipeline(\"ner\", model=model, device=device, aggregation_strategy=\"simple\")\n",
    "sentence = \"Questa lezione ha riguardato Alan Turing e il suo lavoro a Cambridge e poi per decodificare Enigma\"\n",
    "res = ner(sentence)\n",
    "\n",
    "if res:\n",
    "    print(f'Frase da analizzare:\\n\"{sentence}\"')\n",
    "    print('\\nEntità individuate:')\n",
    "    for entity in res:\n",
    "        print(entity)"
   ]
  },
  {
   "cell_type": "markdown",
   "metadata": {},
   "source": [
    "<a id=\"s5\"></a>\n",
    "### 5. Fill mask\n",
    "(modello https://huggingface.co/Musixmatch/umberto-wikipedia-uncased-v1)"
   ]
  },
  {
   "cell_type": "code",
   "execution_count": 6,
   "metadata": {},
   "outputs": [
    {
     "name": "stdout",
     "output_type": "stream",
     "text": [
      "Modello con:\n",
      "-- un vocabolario di 32004 token\n",
      "-- un contesto di lunghezza non definita\n",
      "-- 110M parametri\n",
      "\n",
      "Frase da completare:\n",
      "\"In questa lezione stiamo discutendo di <mask> artificiale.\"\n",
      "\n",
      "Risultati:\n",
      "In questa lezione stiamo discutendo di intelligenza artificiale. (0.77)\n",
      "In questa lezione stiamo discutendo di lingua artificiale. (0.04)\n",
      "In questa lezione stiamo discutendo di selezione artificiale. (0.01)\n"
     ]
    }
   ],
   "source": [
    "model = 'Musixmatch/umberto-wikipedia-uncased-v1'\n",
    "info(model)\n",
    "unmasker = pipeline(\"fill-mask\", model=model, device=device)\n",
    "sentence = \"In questa lezione stiamo discutendo di <mask> artificiale.\"\n",
    "res = unmasker(sentence, top_k=3)\n",
    "\n",
    "if res:\n",
    "    print(f'Frase da completare:\\n\"{sentence}\"')\n",
    "    print('\\nRisultati:')\n",
    "    for fill in res:\n",
    "        print(f\" {fill['sequence']} ({fill['score']:0.2f})\") # type: ignore"
   ]
  },
  {
   "cell_type": "markdown",
   "metadata": {},
   "source": [
    "<a id=\"s6\"></a>\n",
    "### 6. Question answering\n",
    "(modello https://huggingface.co/osiria/deberta-italian-question-answering)"
   ]
  },
  {
   "cell_type": "code",
   "execution_count": 7,
   "metadata": {},
   "outputs": [
    {
     "name": "stdout",
     "output_type": "stream",
     "text": [
      "Modello con:\n",
      "-- un vocabolario di 50255 token\n",
      "-- un contesto di lunghezza non definita\n",
      "-- 124M parametri\n",
      "\n",
      "Contesto:\n",
      "\"Una rete neurale è una struttura computazionale ispirata ai neuroni del cervello umano.\n",
      "È composta da strati di nodi interconnessi, chiamati neuroni,\n",
      "che elaborano e trasformano i dati di input in output.\n",
      "È nelle connessioni tra i neuroni che risiede la capacità di apprendimento della rete.\"\n",
      "\n",
      "Richiesta:\n",
      "\"Cosa fa sì che una rete neurale sia in grado di adattare il suo comportamento,\n",
      "ottimizzandolo in funzione del contenuto del training set utilizzato nel suo addestramento?\"\n",
      "\n",
      "Risultato:\n",
      "{'score': 0.5466107726097107, 'start': 214, 'end': 240, 'answer': ' connessioni tra i neuroni'}\n"
     ]
    }
   ],
   "source": [
    "model = 'osiria/deberta-italian-question-answering'\n",
    "info(model)\n",
    "question_answerer = pipeline(\"question-answering\", model=model, device=device)\n",
    "context = \"\"\"\n",
    "\"Una rete neurale è una struttura computazionale ispirata ai neuroni del cervello umano.\n",
    "È composta da strati di nodi interconnessi, chiamati neuroni,\n",
    "che elaborano e trasformano i dati di input in output.\n",
    "È nelle connessioni tra i neuroni che risiede la capacità di apprendimento della rete.\"\n",
    "\"\"\"\n",
    "question = \"\"\"\n",
    "\"Cosa fa sì che una rete neurale sia in grado di adattare il suo comportamento,\n",
    "ottimizzandolo in funzione del contenuto del training set utilizzato nel suo addestramento?\"\n",
    "\"\"\"\n",
    "res = question_answerer(context=context, question=question) # type: ignore\n",
    "\n",
    "if res:\n",
    "    print(f'Contesto:{context}')\n",
    "    print(f'Richiesta:{question}')\n",
    "    print('Risultato:')\n",
    "    print(res)"
   ]
  },
  {
   "cell_type": "markdown",
   "metadata": {},
   "source": [
    "<a id=\"s7\"></a>\n",
    "### 7. Text generation (completamento)\n",
    "(modello https://huggingface.co/google/gemma-2-2b-it)"
   ]
  },
  {
   "cell_type": "code",
   "execution_count": 8,
   "metadata": {},
   "outputs": [
    {
     "name": "stdout",
     "output_type": "stream",
     "text": [
      "Modello con:\n",
      "-- un vocabolario di 256000 token\n",
      "-- un contesto di lunghezza non definita\n"
     ]
    },
    {
     "data": {
      "application/vnd.jupyter.widget-view+json": {
       "model_id": "2a26a70e0523425d91fb2f6676228f3b",
       "version_major": 2,
       "version_minor": 0
      },
      "text/plain": [
       "Loading checkpoint shards:   0%|          | 0/2 [00:00<?, ?it/s]"
      ]
     },
     "metadata": {},
     "output_type": "display_data"
    },
    {
     "name": "stdout",
     "output_type": "stream",
     "text": [
      "-- 2.61B parametri\n",
      "\n"
     ]
    },
    {
     "data": {
      "application/vnd.jupyter.widget-view+json": {
       "model_id": "26ce80c9e1b44049abf8395c3bed8cd2",
       "version_major": 2,
       "version_minor": 0
      },
      "text/plain": [
       "Loading checkpoint shards:   0%|          | 0/2 [00:00<?, ?it/s]"
      ]
     },
     "metadata": {},
     "output_type": "display_data"
    },
    {
     "name": "stdout",
     "output_type": "stream",
     "text": [
      "Richiesta di completamento:\n",
      "In questa lezione abbiamo parlato di Alan Turing e\n",
      "\n",
      "Risultato:\n"
     ]
    },
    {
     "data": {
      "text/markdown": [
       "In questa lezione abbiamo parlato di Alan Turing e il suo contributo alla storia della computazione. \n",
       "\n",
       "**Ecco alcuni punti chiave:**\n",
       "\n",
       "* **Alan Turing** è stato un matematico, logico e informatico britannico, considerato uno dei più grandi geni della storia della scienza.\n",
       "* **Il suo lavoro** ha avuto un impatto profondo sulla comprensione della computazione, della logica e della matematica.\n",
       "* **Turing bombe** sono state un'invenzione fondamentale durante la seconda guerra mondiale, che ha permesso di decifrare i codici tedeschi.\n",
       "* **Il suo contributo** alla teoria della computazione è stato fondamentale per la creazione del computer moderno.\n",
       "\n",
       "**Ecco alcuni spunti per approfondire la lezione:**\n",
       "\n",
       "* **La teoria della Turing:**  Questo concetto è fondamentale per la comprensione della computazione.  Puoi approfondire il concetto di Turing machine e come funziona.\n",
       "* **Il ruolo della guerra:**  La seconda guerra mondiale ha avuto un ruolo fondamentale nella diffusione del lavoro di Turing. Puoi approfondire il ruolo delle bombe di Turing e il loro impatto sulla guerra.\n",
       "* **L'influenza di Turing:**  Turing ha avuto un'influenza profonda sulla scienza e sulla tecnologia. Puoi approfondire il suo lavoro e il suo impatto sulla società.\n",
       "\n",
       "**Ulteriori risorse:**\n",
       "\n",
       "* **Wikipedia:** https://it.wikipedia.org/wiki/Alan_Turing\n",
       "* **The Turing Test:** https://en.wikipedia.org/wiki/Turing_test\n",
       "* **The Alan Turing Institute:** https://www.turing.ac.uk/\n",
       "\n",
       "\n",
       "**Conclusione:**\n",
       "\n",
       "Alan Turing è stato un genio della scienza che ha contribuito in modo significativo alla comprensione della computazione. La sua vita e il suo lavoro sono un esempio di come la scienza possa avere un impatto profondo sulla società.\n"
      ],
      "text/plain": [
       "<IPython.core.display.Markdown object>"
      ]
     },
     "metadata": {},
     "output_type": "display_data"
    }
   ],
   "source": [
    "model = \"google/gemma-2-2b-it\"\n",
    "info(model)\n",
    "generator = pipeline(\"text-generation\", model=model, device=device)\n",
    "sentence = \"In questa lezione sull'intelligenza artificiale, stiamo trattando di\"\n",
    "res = generator(sentence, max_length=500, truncation=False)\n",
    "\n",
    "if res:\n",
    "    print(f'Richiesta di completamento:\\n{sentence}')\n",
    "    print('\\nRisultato:')\n",
    "    printmd(res[0]['generated_text']) # type: ignore"
   ]
  },
  {
   "cell_type": "markdown",
   "metadata": {},
   "source": [
    "<a id=\"s8\"></a>\n",
    "### 8. Translation\n",
    "(modello https://huggingface.co/facebook/mbart-large-50-many-to-many-mmt)"
   ]
  },
  {
   "cell_type": "code",
   "execution_count": 10,
   "metadata": {},
   "outputs": [
    {
     "name": "stdout",
     "output_type": "stream",
     "text": [
      "Modello con:\n",
      "-- un vocabolario di 250054 token\n",
      "-- un contesto di lunghezza non definita\n",
      "-- 610M parametri\n",
      "\n",
      "Da tradurre:\n",
      "\"Abbiamo partecipato a una lezione interessante a proposito di intelligenza artificiale,\n",
      "il cui argomento principale sono stati esempi di applicazioni di reti neurali artificiali.\"\n",
      "\n",
      "Traduzione:\n",
      "We attended an interesting class on artificial intelligence, and the main topic was examples of the\n",
      "application of artificial neural networks.\n"
     ]
    }
   ],
   "source": [
    "model = \"facebook/mbart-large-50-many-to-many-mmt\"\n",
    "info(model)\n",
    "translator = pipeline(\"translation\", model=model, device=device)\n",
    "sentence = \"\"\"\n",
    "\"Abbiamo partecipato a una lezione interessante a proposito di intelligenza artificiale,\n",
    "il cui argomento principale sono stati esempi di applicazioni di reti neurali artificiali.\"\n",
    "\"\"\"\n",
    "res = translator(sentence, src_lang=\"it_IT\", tgt_lang=\"en_US\")\n",
    "\n",
    "if res:\n",
    "    print(f'Da tradurre:{sentence}')\n",
    "    print(f'Traduzione:')\n",
    "    wprint(res[0]['translation_text'][1:]) # type: ignore"
   ]
  },
  {
   "cell_type": "markdown",
   "metadata": {},
   "source": [
    "<a id=\"s9\"></a>\n",
    "### 9. Text generation (Q&A)\n",
    "(modello https://huggingface.co/google/gemma-2-2b-it)"
   ]
  },
  {
   "cell_type": "code",
   "execution_count": 2,
   "metadata": {},
   "outputs": [
    {
     "name": "stdout",
     "output_type": "stream",
     "text": [
      "Modello con:\n",
      "-- un vocabolario di 256000 token\n",
      "-- un contesto di lunghezza non definita\n"
     ]
    },
    {
     "data": {
      "application/vnd.jupyter.widget-view+json": {
       "model_id": "89894ed447264df28809666a5190d792",
       "version_major": 2,
       "version_minor": 0
      },
      "text/plain": [
       "Loading checkpoint shards:   0%|          | 0/2 [00:00<?, ?it/s]"
      ]
     },
     "metadata": {},
     "output_type": "display_data"
    },
    {
     "name": "stdout",
     "output_type": "stream",
     "text": [
      "-- 2.61B parametri\n",
      "\n"
     ]
    },
    {
     "data": {
      "application/vnd.jupyter.widget-view+json": {
       "model_id": "f211d9ff05ad47b2910f75094f523504",
       "version_major": 2,
       "version_minor": 0
      },
      "text/plain": [
       "Loading checkpoint shards:   0%|          | 0/2 [00:00<?, ?it/s]"
      ]
     },
     "metadata": {},
     "output_type": "display_data"
    },
    {
     "name": "stdout",
     "output_type": "stream",
     "text": [
      "Richiesta:\n",
      " \"Fai una sintesi in due frasi del testo che segue? Il metodo scientifico ci ha insegnato a fare previsioni sulla base\n",
      "(1) di modelli dei fenomeni e (2) di dati: un modello ci dice che se il fenomeno è in una certa condizione, osserveremo\n",
      "certi effetti, e i dati ci dicono che siamo in una certa condizione; se tutto ciò è sufficientemente accurato, possiamo\n",
      "supporre che osserveremo proprio gli effetti predetti dal modello in base ai dati. Si tratta di una versione\n",
      "razionalizzata di ragionamenti che tutti noi, anche senza rendercene conto, attuiamo abitualmente: dall'idea, un modello\n",
      "appunto, che ci siamo fatti di come la nostra automobile si comporta quando freniamo e dai dati che otteniamo osservando\n",
      "intorno a noi mentre guidiamo, concludiamo se, quando e quanto intensamente dobbiamo schiacciare il freno. Ma in questo\n",
      "momento non abbiamo modelli affidabili di quello che sta succedendo a proposito dei sistemi cosiddetti di intelligenza\n",
      "artificiale generativa, e quindi questa strategia non è applicabile. Quando non abbiamo un modello a cui affidarci, a\n",
      "volte ricorriamo a una strategia di riserva: nel passato, in una certa condizione si sono prodotti certi effetti; se ora\n",
      "i dati ci dicono che siamo in una condizione simile, per analogia ipotizziamo che si produrranno effetti simili.\n",
      "Ragionando per analogia possiamo essere creativi, se troviamo nuove connessioni tra le entità a cui ci stiamo\n",
      "interessando, ma paradossalmente anche inerti di fronte ai cambiamenti, se ci ostiniamo a interpretare le novità alla\n",
      "luce di quello che già sappiamo. Ma anche questa strategia analogica non funziona oggi a proposito dei sistemi di\n",
      "intelligenza artificiale generativa: sia perché stiamo vivendo una condizione decisamente nuova, e quindi non sappiamo\n",
      "bene con cosa del passato confrontarla, sia perché le analogie sono valide quando i cambiamenti sono lineari, e invece i\n",
      "cambiamenti che stiamo vivendo in questi mesi sembrano proprio esponenziali. Insomma, se è spesso difficile fare\n",
      "previsioni affidabili senza modelli e dati affidabili, nella situazione in cui siamo potremmo ammettere onestamente che\n",
      "le nostre previsioni non hanno davvero nulla di affidabile.\"\n",
      "Risultato:\n"
     ]
    },
    {
     "data": {
      "text/markdown": [
       "\n",
       "\n",
       "**Sintesi:**\n",
       "\n",
       "Il testo spiega come la scienza si basa su modelli e dati per fare previsioni, ma in questo caso, non abbiamo modelli affidabili per l'intelligenza artificiale generativa. \n",
       "Per questo motivo, non possiamo fare previsioni affidabili e dobbiamo essere consapevoli che le nostre previsioni non hanno fondamento. \" \n"
      ],
      "text/plain": [
       "<IPython.core.display.Markdown object>"
      ]
     },
     "metadata": {},
     "output_type": "display_data"
    }
   ],
   "source": [
    "model = \"google/gemma-2-2b-it\"\n",
    "info(model)\n",
    "generator = pipeline(\"text-generation\", model=model, device=device)\n",
    "system_content = \"Sei un esperto che risponde in italiano. e sempre in modo amichevole.\"\n",
    "user_content = \"\"\"\n",
    "\"Fai una sintesi in due frasi del testo che segue?\n",
    "Il metodo scientifico ci ha insegnato a fare previsioni sulla base (1) di modelli dei fenomeni e (2) di dati: un modello ci dice che se il fenomeno è in una certa condizione, osserveremo certi effetti, e i dati ci dicono che siamo in una certa condizione; se tutto ciò è sufficientemente accurato, possiamo supporre che osserveremo proprio gli effetti predetti dal modello in base ai dati.\n",
    "Si tratta di una versione razionalizzata di ragionamenti che tutti noi, anche senza rendercene conto, attuiamo abitualmente: dall'idea, un modello appunto, che ci siamo fatti di come la nostra automobile si comporta quando freniamo e dai dati che otteniamo osservando intorno a noi mentre guidiamo, concludiamo se, quando e quanto intensamente dobbiamo schiacciare il freno.\n",
    "Ma in questo momento non abbiamo modelli affidabili di quello che sta succedendo a proposito dei sistemi cosiddetti di intelligenza artificiale generativa, e quindi questa strategia non è applicabile.\n",
    "Quando non abbiamo un modello a cui affidarci, a volte ricorriamo a una strategia di riserva: nel passato, in una certa condizione si sono prodotti certi effetti; se ora i dati ci dicono che siamo in una condizione simile, per analogia ipotizziamo che si produrranno effetti simili.\n",
    "Ragionando per analogia possiamo essere creativi, se troviamo nuove connessioni tra le entità a cui ci stiamo interessando, ma paradossalmente anche inerti di fronte ai cambiamenti, se ci ostiniamo a interpretare le novità alla luce di quello che già sappiamo.\n",
    "Ma anche questa strategia analogica non funziona oggi a proposito dei sistemi di intelligenza artificiale generativa: sia perché stiamo vivendo una condizione decisamente nuova, e quindi non sappiamo bene con cosa del passato confrontarla, sia perché le analogie sono valide quando i cambiamenti sono lineari, e invece i cambiamenti che stiamo vivendo in questi mesi sembrano proprio esponenziali.\n",
    "Insomma, se è spesso difficile fare previsioni affidabili senza modelli e dati affidabili, nella situazione in cui siamo potremmo ammettere onestamente che le nostre previsioni non hanno davvero nulla di affidabile.\"\n",
    "\"\"\"\n",
    "res = generator(user_content, max_new_tokens=128)\n",
    "\n",
    "if res:\n",
    "    print('Richiesta:')\n",
    "    wprint(user_content)\n",
    "    print('Risultato:')\n",
    "    printmd(res[0]['generated_text'][1+len(user_content):]) # type: ignore"
   ]
  }
 ],
 "metadata": {
  "colab": {
   "provenance": []
  },
  "kernelspec": {
   "display_name": ".venv",
   "language": "python",
   "name": "python3"
  },
  "language_info": {
   "codemirror_mode": {
    "name": "ipython",
    "version": 3
   },
   "file_extension": ".py",
   "mimetype": "text/x-python",
   "name": "python",
   "nbconvert_exporter": "python",
   "pygments_lexer": "ipython3",
   "version": "3.13.1"
  },
  "widgets": {
   "application/vnd.jupyter.widget-state+json": {
    "state": {},
    "version_major": 2,
    "version_minor": 0
   }
  }
 },
 "nbformat": 4,
 "nbformat_minor": 4
}
