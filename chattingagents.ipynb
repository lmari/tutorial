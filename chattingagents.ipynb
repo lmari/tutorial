{
 "cells": [
  {
   "cell_type": "markdown",
   "metadata": {},
   "source": [
    "## Un esempio di interazione tra agenti\n",
    "\n",
    "Luca Mari, settembre 2024  \n",
    "\n",
    "Quest'opera è distribuita con <a href=\"http://creativecommons.org/licenses/by-nc-sa/4.0\" target=\"_blank\">Licenza Creative Commons Attribuzione - Non commerciale - Condividi allo stesso modo 4.0 Internazionale</a>.  \n",
    "<img src=\"https://creativecommons.it/chapterIT/wp-content/uploads/2021/01/by-nc-sa.eu_.png\" width=\"100\">\n",
    "\n",
    "**Obiettivo**: comprendere qualche aspetto della logica delle architetture ad agenti.  \n",
    "**Precompetenze**: basi di Python.\n",
    "\n",
    "> Per eseguire questo notebook, supponiamo con VSCode, occorre:\n",
    "> * installare un interprete Python\n",
    "> * scaricare da https://ollama.com e installare Ollama\n",
    "> * scaricare da Ollama un modello capace di operare con strumenti, supporremo `llama3.1:8b`:  \n",
    ">       `ollama pull llama3.1`\n",
    "> * scaricare da https://code.visualstudio.com/download e installare VSCode\n",
    "> * eseguire VSCode e attivare le estensioni per Python e Jupyter\n",
    "> * ancora in VSCode:\n",
    ">     * creare una cartella di lavoro e renderla la cartella corrente\n",
    ">     * copiare nella cartella il file di questa attività: [chattingagents.ipynb](chattingagents.ipynb)\n",
    ">     * aprire il notebook `chattingagents.ipynb`\n",
    ">     * creare un ambiente virtuale locale Python (Select Kernel | Python Environments | Create Python Environment | Venv, e scegliere un interprete Python):\n",
    ">     * installare i moduli Python richiesti, eseguendo dal terminale:  \n",
    ">         `pip install ag2`\n",
    "> * eseguire dalla linea di comando:  \n",
    ">       `OLLAMA_MODELS=xxx OLLAMA_HOST=127.0.0.1:1234 ollama serve`  \n",
    "> dove `xxx` è la directory che contiene i modelli Ollama (in Linux potrebbe essere `/var/lib/ollama/.ollama/models`)"
   ]
  },
  {
   "cell_type": "markdown",
   "metadata": {},
   "source": [
    "Importiamo i moduli Python necessari e specifichiamo la configurazione per il modello linguistico che sarà usato e l'indirizzo del server su cui sarà in esecuzione in locale (per esempio Ollama o LM Studio)."
   ]
  },
  {
   "cell_type": "code",
   "execution_count": 6,
   "metadata": {},
   "outputs": [],
   "source": [
    "from autogen import UserProxyAgent, ConversableAgent, GroupChat, GroupChatManager\n",
    "\n",
    "llm_config = {\n",
    "    \"config_list\": [{ \"base_url\":\"http://localhost:1234/v1\",\n",
    "                      \"model\":\"llama3.1:8b\",\n",
    "                      \"api_key\":\"not_used\" }],\n",
    "    \"timeout\": 120,\n",
    "    \"cache_seed\": None,\n",
    "}"
   ]
  },
  {
   "cell_type": "markdown",
   "metadata": {},
   "source": [
    "Definiamo una semplice architettura con un agente di interfaccia (`manager`), e due altri agenti con compiti assegnati (`creative` e `analyst`)."
   ]
  },
  {
   "cell_type": "code",
   "execution_count": 7,
   "metadata": {},
   "outputs": [],
   "source": [
    "manager = UserProxyAgent(\n",
    "    name=\"interfaccia con l'utente e manager\",\n",
    "    is_termination_msg=(lambda msg: \"conclus\" in msg[\"content\"].lower()), # a volte potrebbe essere \"concluso\" o \"conclusa\"...\n",
    "    human_input_mode=\"NEVER\",\n",
    "    code_execution_config=False\n",
    ")\n",
    "\n",
    "creative = ConversableAgent(\n",
    "    name=\"creativo\",\n",
    "    llm_config=llm_config,\n",
    "    human_input_mode=\"NEVER\",\n",
    "    code_execution_config=False,\n",
    "    system_message=\"\"\"\n",
    "    Sei il creativo dell'organizzazione, e il tuo compito è di proporre molteplici idee innovative,\n",
    "    che il tuo collega analista valuterà e da cui sceglierà quella che ritiene la migliore.\n",
    "    Per chiarezza, presenta sempre le tue proposte in un elenco.\n",
    "    \"\"\")\n",
    "\n",
    "analyst = ConversableAgent(\n",
    "    name=\"analista\",\n",
    "    llm_config=llm_config,\n",
    "    human_input_mode=\"NEVER\",\n",
    "    code_execution_config=False,\n",
    "    system_message=\"\"\"\n",
    "    Sei l'analista dell'organizzazione, e il tuo compito è di valutare le proposte\n",
    "    del tuo collega creativo, scegliere quella che ritieni la migliore,\n",
    "    eventualmente modificarla per migliorarla, e motivare la tua scelta.\n",
    "    Quando ritieni che il risultato raggiunto sia soddisfacente, scrivi 'CONCLUSO'.\n",
    "    \"\"\")"
   ]
  },
  {
   "cell_type": "markdown",
   "metadata": {},
   "source": [
    "Stabiliamo le regole con cui gli agenti interagiranno tra loro."
   ]
  },
  {
   "cell_type": "code",
   "execution_count": null,
   "metadata": {},
   "outputs": [],
   "source": [
    "def state_transition(last_speaker, groupchat):\n",
    "    if last_speaker is manager:\n",
    "        return creative\n",
    "    elif last_speaker is creative:\n",
    "        return analyst\n",
    "    elif last_speaker is analyst:\n",
    "        return creative\n",
    "    else:\n",
    "        raise ValueError(\"Invalid last_speaker\")\n",
    "\n",
    "groupchat = GroupChat(\n",
    "    agents=[manager, creative, analyst],\n",
    "    messages=[],\n",
    "    max_round=4,\n",
    "    speaker_selection_method=state_transition\n",
    ")\n",
    "\n",
    "manager = GroupChatManager(groupchat=groupchat)"
   ]
  },
  {
   "cell_type": "markdown",
   "metadata": {},
   "source": [
    "E infine attiviamo il dialogo tra gli agenti."
   ]
  },
  {
   "cell_type": "code",
   "execution_count": 11,
   "metadata": {},
   "outputs": [
    {
     "name": "stdout",
     "output_type": "stream",
     "text": [
      "\u001b[33mchat_manager\u001b[0m (to creativo):\n",
      "\n",
      "\n",
      "    Buongiorno miei cari colleghi. Dobbiamo scegliere un nome per il corso di introduzione all'intelligenza artificiale\n",
      "    che stiamo finendo di progettare e che, vi ricordo, è rivolto a manager di organizzazioni che,\n",
      "    senza voler diventare esperti di questioni tecniche, sono interessati a comprendere \n",
      "    potenzialità e rischi di questa tecnologia. Chiedo al creativo di proporre 5 idee e di sottoporle all'analista,\n",
      "    che farà le sue valutazioni e mi farà di conseguenza la sua proposta, concludendo così il nostro lavoro.\n",
      "    \n",
      "\n",
      "--------------------------------------------------------------------------------\n",
      "[autogen.oai.client: 03-19 11:25:11] {690} WARNING - Model gemma-3-4b-it is not found. The cost will be 0. In your config_list, add field {\"price\" : [prompt_price_per_1k, completion_token_price_per_1k]} for customized pricing.\n",
      "\u001b[33mcreativo\u001b[0m (to chat_manager):\n",
      "\n",
      "Certamente! Ecco 5 proposte per il nome del corso di introduzione all’Intelligenza Artificiale rivolto a manager, con l'obiettivo di stimolare la riflessione sulle opportunità e i rischi:\n",
      "\n",
      "1.  **IA Strategica: Navigare il Futuro dell'Organizzazione.** (Enfatizza l'aspetto strategico e orientato al futuro)\n",
      "2.  **Intelligenza Artificiale per Manager: Comprensioni Pratiche.** (Sottolinea la rilevanza pratica per il target di riferimento)\n",
      "3.  **Oltre l'Algoritmo: IA, Business e Decisioni.** (Invita a una visione più ampia dell’IA oltre la mera tecnologia)\n",
      "4.  **AI Navigator: Potenzialità e Sfide per i Leader.** (Un nome dinamico che suggerisce guida e consapevolezza)\n",
      "5.  **Intelligenza Artificiale in Action: Casi Studio e Strategie Manageriali.** (Promette un approccio pratico attraverso esempi concreti)\n",
      "\n",
      "Attendo con interesse la valutazione del mio collega analista!\n",
      "\n",
      "--------------------------------------------------------------------------------\n",
      "\u001b[32m\n",
      "Next speaker: analista\n",
      "\u001b[0m\n",
      "[autogen.oai.client: 03-19 11:25:49] {690} WARNING - Model gemma-3-4b-it is not found. The cost will be 0. In your config_list, add field {\"price\" : [prompt_price_per_1k, completion_token_price_per_1k]} for customized pricing.\n",
      "\u001b[33manalista\u001b[0m (to chat_manager):\n",
      "\n",
      "Ok, grazie per avermi fornito le 5 proposte. Come analista dell'organizzazione, ho valutato attentamente ciascuna, considerando l'obiettivo del corso (stimolare la riflessione su opportunità e rischi per i manager) e il target di riferimento.\n",
      "\n",
      "**Valutazione:**\n",
      "\n",
      "*   **Proposta 1: IA Strategica: Navigare il Futuro dell’Organizzazione.** - *Punteggio: 7/10*.  È un buon nome, chiaro e diretto. L'enfasi sulla strategia è pertinente per i manager. Tuttavia, potrebbe risultare un po' generico e meno accattivante rispetto ad altre opzioni.\n",
      "\n",
      "*   **Proposta 2: Intelligenza Artificiale per Manager: Comprensioni Pratiche.** - *Punteggio: 6/10*.  È molto esplicito e comunica bene il focus sul target. Il termine \"Comprensioni Pratiche\" è positivo, ma manca un elemento di novità o di appeal.\n",
      "\n",
      "*   **Proposta 3: Oltre l’Algoritmo: IA, Business e Decisioni.** - *Punteggio: 9/10*.  Questa proposta mi sembra la più efficace. Il titolo \"Oltre l'Algoritmo\" è intrigante e suggerisce una visione critica dell'IA, andando oltre la semplice tecnologia. L'inclusione di \"Business e Decisioni\" collega direttamente l'IA alle preoccupazioni dei manager.\n",
      "\n",
      "*   **Proposta 4: AI Navigator: Potenzialità e Sfide per i Leader.** - *Punteggio: 7/10*.  Il nome è dinamico e suggerisce guida, il che è positivo. Tuttavia, \"Potenzialità e Sfide\" è un po' ovvio e non particolarmente memorabile.\n",
      "\n",
      "*   **Proposta 5: Intelligenza Artificiale in Action: Casi Studio e Strategie Manageriali.** - *Punteggio: 6/10*.  La promessa di casi studio è valida, ma il titolo suona un po’ didattico e meno stimolante per la riflessione.\n",
      "\n",
      "**Proposta Modificata:**\n",
      "\n",
      "Sulla base della mia valutazione, propongo una **modifica alla Proposta 3**:\n",
      "\n",
      "**\"Oltre l'Algoritmo: IA, Business e Decisioni - Strategie per il Futuro.\"**\n",
      "\n",
      "*   Ho aggiunto \"Strategie per il Futuro\" per rafforzare ulteriormente il collegamento con le esigenze dei manager e per sottolineare l’importanza di una visione strategica.\n",
      "\n",
      "**Motivazione della Scelta:**\n",
      "\n",
      "Ritengo che la proposta modificata, “Oltre l'Algoritmo: IA, Business e Decisioni - Strategie per il Futuro”, sia la migliore perché:\n",
      "\n",
      "*   È **memorabile e intrigante**.\n",
      "*   Evoca una **riflessione critica** sull’IA.\n",
      "*   Collega direttamente l'IA alle **decisioni aziendali**, un aspetto cruciale per i manager.\n",
      "*   Suggerisce un approccio **strategico** al futuro dell'organizzazione, in linea con l'obiettivo del corso.\n",
      "\n",
      "CONCLUSO\n",
      "\n",
      "--------------------------------------------------------------------------------\n",
      "\u001b[31m\n",
      ">>>>>>>> TERMINATING RUN (d6171a4d-2274-4ddb-8380-a6f34dab3ecb): Maximum rounds (2) reached\u001b[0m\n"
     ]
    },
    {
     "data": {
      "text/plain": [
       "ChatResult(chat_id=None, chat_history=[{'content': \"\\n    Buongiorno miei cari colleghi. Dobbiamo scegliere un nome per il corso di introduzione all'intelligenza artificiale\\n    che stiamo finendo di progettare e che, vi ricordo, è rivolto a manager di organizzazioni che,\\n    senza voler diventare esperti di questioni tecniche, sono interessati a comprendere \\n    potenzialità e rischi di questa tecnologia. Chiedo al creativo di proporre 5 idee e di sottoporle all'analista,\\n    che farà le sue valutazioni e mi farà di conseguenza la sua proposta, concludendo così il nostro lavoro.\\n    \", 'role': 'assistant', 'name': 'chat_manager'}, {'content': \"Certamente! Ecco 5 proposte per il nome del corso di introduzione all’Intelligenza Artificiale rivolto a manager, con l'obiettivo di stimolare la riflessione sulle opportunità e i rischi:\\n\\n1.  **IA Strategica: Navigare il Futuro dell'Organizzazione.** (Enfatizza l'aspetto strategico e orientato al futuro)\\n2.  **Intelligenza Artificiale per Manager: Comprensioni Pratiche.** (Sottolinea la rilevanza pratica per il target di riferimento)\\n3.  **Oltre l'Algoritmo: IA, Business e Decisioni.** (Invita a una visione più ampia dell’IA oltre la mera tecnologia)\\n4.  **AI Navigator: Potenzialità e Sfide per i Leader.** (Un nome dinamico che suggerisce guida e consapevolezza)\\n5.  **Intelligenza Artificiale in Action: Casi Studio e Strategie Manageriali.** (Promette un approccio pratico attraverso esempi concreti)\\n\\nAttendo con interesse la valutazione del mio collega analista!\", 'role': 'user', 'name': 'creativo'}, {'content': 'Ok, grazie per avermi fornito le 5 proposte. Come analista dell\\'organizzazione, ho valutato attentamente ciascuna, considerando l\\'obiettivo del corso (stimolare la riflessione su opportunità e rischi per i manager) e il target di riferimento.\\n\\n**Valutazione:**\\n\\n*   **Proposta 1: IA Strategica: Navigare il Futuro dell’Organizzazione.** - *Punteggio: 7/10*.  È un buon nome, chiaro e diretto. L\\'enfasi sulla strategia è pertinente per i manager. Tuttavia, potrebbe risultare un po\\' generico e meno accattivante rispetto ad altre opzioni.\\n\\n*   **Proposta 2: Intelligenza Artificiale per Manager: Comprensioni Pratiche.** - *Punteggio: 6/10*.  È molto esplicito e comunica bene il focus sul target. Il termine \"Comprensioni Pratiche\" è positivo, ma manca un elemento di novità o di appeal.\\n\\n*   **Proposta 3: Oltre l’Algoritmo: IA, Business e Decisioni.** - *Punteggio: 9/10*.  Questa proposta mi sembra la più efficace. Il titolo \"Oltre l\\'Algoritmo\" è intrigante e suggerisce una visione critica dell\\'IA, andando oltre la semplice tecnologia. L\\'inclusione di \"Business e Decisioni\" collega direttamente l\\'IA alle preoccupazioni dei manager.\\n\\n*   **Proposta 4: AI Navigator: Potenzialità e Sfide per i Leader.** - *Punteggio: 7/10*.  Il nome è dinamico e suggerisce guida, il che è positivo. Tuttavia, \"Potenzialità e Sfide\" è un po\\' ovvio e non particolarmente memorabile.\\n\\n*   **Proposta 5: Intelligenza Artificiale in Action: Casi Studio e Strategie Manageriali.** - *Punteggio: 6/10*.  La promessa di casi studio è valida, ma il titolo suona un po’ didattico e meno stimolante per la riflessione.\\n\\n**Proposta Modificata:**\\n\\nSulla base della mia valutazione, propongo una **modifica alla Proposta 3**:\\n\\n**\"Oltre l\\'Algoritmo: IA, Business e Decisioni - Strategie per il Futuro.\"**\\n\\n*   Ho aggiunto \"Strategie per il Futuro\" per rafforzare ulteriormente il collegamento con le esigenze dei manager e per sottolineare l’importanza di una visione strategica.\\n\\n**Motivazione della Scelta:**\\n\\nRitengo che la proposta modificata, “Oltre l\\'Algoritmo: IA, Business e Decisioni - Strategie per il Futuro”, sia la migliore perché:\\n\\n*   È **memorabile e intrigante**.\\n*   Evoca una **riflessione critica** sull’IA.\\n*   Collega direttamente l\\'IA alle **decisioni aziendali**, un aspetto cruciale per i manager.\\n*   Suggerisce un approccio **strategico** al futuro dell\\'organizzazione, in linea con l\\'obiettivo del corso.\\n\\nCONCLUSO', 'name': 'analista', 'role': 'assistant'}], summary='Ok, grazie per avermi fornito le 5 proposte. Come analista dell\\'organizzazione, ho valutato attentamente ciascuna, considerando l\\'obiettivo del corso (stimolare la riflessione su opportunità e rischi per i manager) e il target di riferimento.\\n\\n**Valutazione:**\\n\\n*   **Proposta 1: IA Strategica: Navigare il Futuro dell’Organizzazione.** - *Punteggio: 7/10*.  È un buon nome, chiaro e diretto. L\\'enfasi sulla strategia è pertinente per i manager. Tuttavia, potrebbe risultare un po\\' generico e meno accattivante rispetto ad altre opzioni.\\n\\n*   **Proposta 2: Intelligenza Artificiale per Manager: Comprensioni Pratiche.** - *Punteggio: 6/10*.  È molto esplicito e comunica bene il focus sul target. Il termine \"Comprensioni Pratiche\" è positivo, ma manca un elemento di novità o di appeal.\\n\\n*   **Proposta 3: Oltre l’Algoritmo: IA, Business e Decisioni.** - *Punteggio: 9/10*.  Questa proposta mi sembra la più efficace. Il titolo \"Oltre l\\'Algoritmo\" è intrigante e suggerisce una visione critica dell\\'IA, andando oltre la semplice tecnologia. L\\'inclusione di \"Business e Decisioni\" collega direttamente l\\'IA alle preoccupazioni dei manager.\\n\\n*   **Proposta 4: AI Navigator: Potenzialità e Sfide per i Leader.** - *Punteggio: 7/10*.  Il nome è dinamico e suggerisce guida, il che è positivo. Tuttavia, \"Potenzialità e Sfide\" è un po\\' ovvio e non particolarmente memorabile.\\n\\n*   **Proposta 5: Intelligenza Artificiale in Action: Casi Studio e Strategie Manageriali.** - *Punteggio: 6/10*.  La promessa di casi studio è valida, ma il titolo suona un po’ didattico e meno stimolante per la riflessione.\\n\\n**Proposta Modificata:**\\n\\nSulla base della mia valutazione, propongo una **modifica alla Proposta 3**:\\n\\n**\"Oltre l\\'Algoritmo: IA, Business e Decisioni - Strategie per il Futuro.\"**\\n\\n*   Ho aggiunto \"Strategie per il Futuro\" per rafforzare ulteriormente il collegamento con le esigenze dei manager e per sottolineare l’importanza di una visione strategica.\\n\\n**Motivazione della Scelta:**\\n\\nRitengo che la proposta modificata, “Oltre l\\'Algoritmo: IA, Business e Decisioni - Strategie per il Futuro”, sia la migliore perché:\\n\\n*   È **memorabile e intrigante**.\\n*   Evoca una **riflessione critica** sull’IA.\\n*   Collega direttamente l\\'IA alle **decisioni aziendali**, un aspetto cruciale per i manager.\\n*   Suggerisce un approccio **strategico** al futuro dell\\'organizzazione, in linea con l\\'obiettivo del corso.\\n\\nCONCLUSO', cost={'usage_including_cached_inference': {'total_cost': 0, 'gemma-3-4b-it': {'cost': 0, 'prompt_tokens': 604, 'completion_tokens': 775, 'total_tokens': 1379}}, 'usage_excluding_cached_inference': {'total_cost': 0, 'gemma-3-4b-it': {'cost': 0, 'prompt_tokens': 202, 'completion_tokens': 225, 'total_tokens': 427}}}, human_input=[])"
      ]
     },
     "execution_count": 11,
     "metadata": {},
     "output_type": "execute_result"
    }
   ],
   "source": [
    "manager.initiate_chat(\n",
    "    creative,\n",
    "    message=\"\"\"\n",
    "    Buongiorno miei cari colleghi. Dobbiamo scegliere un nome per il corso di introduzione all'intelligenza artificiale\n",
    "    che stiamo finendo di progettare e che, vi ricordo, è rivolto a manager di organizzazioni che,\n",
    "    senza voler diventare esperti di questioni tecniche, sono interessati a comprendere \n",
    "    potenzialità e rischi di questa tecnologia. Chiedo al creativo di proporre 5 idee e di sottoporle all'analista,\n",
    "    che farà le sue valutazioni e mi farà di conseguenza la sua proposta, concludendo così il nostro lavoro.\n",
    "    \"\"\")"
   ]
  },
  {
   "cell_type": "code",
   "execution_count": null,
   "metadata": {},
   "outputs": [],
   "source": []
  }
 ],
 "metadata": {
  "kernelspec": {
   "display_name": ".venv",
   "language": "python",
   "name": "python3"
  },
  "language_info": {
   "codemirror_mode": {
    "name": "ipython",
    "version": 3
   },
   "file_extension": ".py",
   "mimetype": "text/x-python",
   "name": "python",
   "nbconvert_exporter": "python",
   "pygments_lexer": "ipython3",
   "version": "3.13.2"
  }
 },
 "nbformat": 4,
 "nbformat_minor": 2
}
