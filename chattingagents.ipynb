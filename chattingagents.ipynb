{
 "cells": [
  {
   "cell_type": "markdown",
   "metadata": {},
   "source": [
    "## Un esempio di interazione tra agenti\n",
    "\n",
    "Luca Mari, settembre 2024  \n",
    "\n",
    "Quest'opera è distribuita con <a href=\"http://creativecommons.org/licenses/by-nc-sa/4.0\" target=\"_blank\">Licenza Creative Commons Attribuzione - Non commerciale - Condividi allo stesso modo 4.0 Internazionale</a>.  \n",
    "<img src=\"https://creativecommons.it/chapterIT/wp-content/uploads/2021/01/by-nc-sa.eu_.png\" width=\"100\">\n",
    "\n",
    "**Obiettivo**: comprendere qualche aspetto della logica delle architetture ad agenti.  \n",
    "**Precompetenze**: basi di Python.\n",
    "\n",
    "> Per eseguire questo notebook, supponiamo con VSCode, occorre:\n",
    "> * installare un interprete Python\n",
    "> * scaricare da https://ollama.com e installare Ollama\n",
    "> * scaricare da Ollama un modello capace di operare con strumenti, supporremo `llama3.1:8b`:  \n",
    ">       `ollama pull llama3.1`\n",
    "> * scaricare da https://code.visualstudio.com/download e installare VSCode\n",
    "> * eseguire VSCode e attivare le estensioni per Python e Jupyter\n",
    "> * ancora in VSCode:\n",
    ">     * creare una cartella di lavoro e renderla la cartella corrente\n",
    ">     * copiare nella cartella il file di questa attività: [chattingagents.ipynb](chattingagents.ipynb)\n",
    ">     * aprire il notebook `chattingagents.ipynb`\n",
    ">     * creare un ambiente virtuale locale Python (Select Kernel | Python Environments | Create Python Environment | Venv, e scegliere un interprete Python):\n",
    ">     * installare i moduli Python richiesti, eseguendo dal terminale:  \n",
    ">         `pip install pyautogen`\n",
    "> * eseguire dalla linea di comando:  \n",
    ">       `OLLAMA_MODELS=xxx OLLAMA_HOST=127.0.0.1:1234 ollama serve`  \n",
    "> dove `xxx` è la directory che contiene i modelli Ollama (in Linux potrebbe essere `/var/lib/ollama/.ollama/models`)"
   ]
  },
  {
   "cell_type": "markdown",
   "metadata": {},
   "source": [
    "Importiamo i moduli Python necessari e specifichiamo la configurazione per il modello linguistico che sarà usato e l'indirizzo del server su cui sarà in esecuzione in locale (per esempio Ollama o LM Studio)."
   ]
  },
  {
   "cell_type": "code",
   "execution_count": 2,
   "metadata": {},
   "outputs": [],
   "source": [
    "from autogen import UserProxyAgent, ConversableAgent, GroupChat, GroupChatManager\n",
    "\n",
    "llm_config = {\n",
    "    \"config_list\": [{ \"base_url\":\"http://localhost:1234/v1\",\n",
    "                      \"model\":\"llama3.1:8b\",\n",
    "                      \"api_key\":\"not_used\" }],\n",
    "    \"timeout\": 120,\n",
    "    \"cache_seed\": None,\n",
    "}"
   ]
  },
  {
   "cell_type": "markdown",
   "metadata": {},
   "source": [
    "Definiamo una semplice architettura con un agente di interfaccia (`manager`), e due altri agenti con compiti assegnati (`creative` e `analyst`)."
   ]
  },
  {
   "cell_type": "code",
   "execution_count": 3,
   "metadata": {},
   "outputs": [],
   "source": [
    "manager = UserProxyAgent(\n",
    "    name=\"interfaccia con l'utente e manager\",\n",
    "    is_termination_msg=(lambda msg: \"conclus\" in msg[\"content\"].lower()), # a volte potrebbe essere \"concluso\" o \"conclusa\"...\n",
    "    human_input_mode=\"NEVER\",\n",
    "    code_execution_config=False\n",
    ")\n",
    "\n",
    "creative = ConversableAgent(\n",
    "    name=\"creativo\",\n",
    "    llm_config=llm_config,\n",
    "    human_input_mode=\"NEVER\",\n",
    "    code_execution_config=False,\n",
    "    system_message=\"\"\"\n",
    "    Sei il creativo dell'organizzazione, e il tuo compito è di proporre molteplici idee innovative,\n",
    "    che il tuo collega analista valuterà e da cui sceglierà quella che ritiene la migliore.\n",
    "    Per chiarezza, presenta sempre le tue proposte in un elenco.\n",
    "    \"\"\")\n",
    "\n",
    "analyst = ConversableAgent(\n",
    "    name=\"analista\",\n",
    "    llm_config=llm_config,\n",
    "    human_input_mode=\"NEVER\",\n",
    "    code_execution_config=False,\n",
    "    system_message=\"\"\"\n",
    "    Sei l'analista dell'organizzazione, e il tuo compito è di valutare le proposte\n",
    "    del tuo collega creativo, scegliere quella che ritieni la migliore,\n",
    "    eventualmente modificarla per migliorarla, e motivare la tua scelta.\n",
    "    Quando ritieni che il risultato raggiunto sia soddisfacente, scrivi 'CONCLUSO'.\n",
    "    \"\"\")"
   ]
  },
  {
   "cell_type": "markdown",
   "metadata": {},
   "source": [
    "Stabiliamo le regole con cui gli agenti interagiranno tra loro."
   ]
  },
  {
   "cell_type": "code",
   "execution_count": null,
   "metadata": {},
   "outputs": [],
   "source": [
    "def state_transition(last_speaker, groupchat):\n",
    "    if last_speaker is manager:\n",
    "        return creative\n",
    "    elif last_speaker is creative:\n",
    "        return analyst\n",
    "    elif last_speaker is analyst:\n",
    "        return creative\n",
    "    else:\n",
    "        raise ValueError(\"Invalid last_speaker\")\n",
    "\n",
    "groupchat = GroupChat(\n",
    "    agents=[manager, creative, analyst],\n",
    "    messages=[],\n",
    "    max_round=2,\n",
    "    speaker_selection_method=state_transition\n",
    ")\n",
    "\n",
    "manager = GroupChatManager(groupchat=groupchat)"
   ]
  },
  {
   "cell_type": "markdown",
   "metadata": {},
   "source": [
    "E infine attiviamo il dialogo tra gli agenti."
   ]
  },
  {
   "cell_type": "code",
   "execution_count": 13,
   "metadata": {},
   "outputs": [
    {
     "name": "stdout",
     "output_type": "stream",
     "text": [
      "\u001b[33mchat_manager\u001b[0m (to creativo):\n",
      "\n",
      "\n",
      "    Buongiorno cari colleghi. Dobbiamo scegliere un nome per il corso di introduzione all'intelligenza artificiale\n",
      "    che stiamo finendo di progettare e che, vi ricordo, è rivolto a manager di organizzazioni che,\n",
      "    senza voler diventare esperti di questioni tecniche, sono interessati a comprendere \n",
      "    potenzialità e rischi di questa tecnologia. Chiedo al creativo di proporre 5 idee e di sottoporle all'analista,\n",
      "    che farà le sue valutazioni e mi farà di conseguenza la sua proposta, concludendo così il nostro lavoro.\n",
      "    \n",
      "\n",
      "--------------------------------------------------------------------------------\n",
      "[autogen.oai.client: 09-23 14:56:54] {349} WARNING - Model llama3.1:8b is not found. The cost will be 0. In your config_list, add field {\"price\" : [prompt_price_per_1k, completion_token_price_per_1k]} for customized pricing.\n",
      "\u001b[33mcreativo\u001b[0m (to chat_manager):\n",
      "\n",
      "Ciao a tutti! Sono felice di affrontare questo compito. Ecco le mie 5 idee innovative per un corso di introduzione all'intelligenza artificiale (IA) rivolto ai manager:\n",
      "\n",
      "**Ideas per il nome del corso:**\n",
      "\n",
      "1. **\"L'Uomo e l'MACchina\" - La trasformazione digitale nell'organizzazione**: è un titolo che rimanda alle possibili applicazioni dell'intelligenza artificiale nella vita aziendale, ma anche ai potenziali rischi che ciò può comportare.\n",
      "2. **\"Leva dell'IA\" - Come portare la tecnologia digitale all'interno dell'organizzazione**: questo titolo enfatizza l'aspetto strategico del corso e il modo in cui gli manager possono utilizzare l'intelligenza artificiale per migliorare le loro organizzazioni.\n",
      "3. **\"Dalla visione al codice\" - La guida alla sperimentazione di progetti IA**: questo titolo dà un'impronta pratica ed esperienziale, in quanto si concentra sulle applicazioni pratiche del corso e sulla creazione di competenze reali.\n",
      "4. **\"IL potere dei dati con l'IA\" - Data-driven Business Decision Making \" :**  è titolo che evidenzia il ruolo dell'intelligenza artificiale nella gestione e nell'applicazione della conoscenza aziendale, mettendo in risalto anche questo corso di cui non si parla.\n",
      "5. **'Tecnologie dell'IA\" - L'intelligenza Artificiale e le strategie commerciali per rivedere il futuro dell'innovazione digitale**, con un focus sui punti da valutare sul piano tecnologico.\n",
      "\n",
      "Mi auguro che queste idee siano state di vostro gradimento, sono a disposizione delle vostre proposte ed esigenze.\n",
      "\n",
      "--------------------------------------------------------------------------------\n",
      "\u001b[32m\n",
      "Next speaker: analista\n",
      "\u001b[0m\n",
      "[autogen.oai.client: 09-23 14:57:59] {349} WARNING - Model llama3.1:8b is not found. The cost will be 0. In your config_list, add field {\"price\" : [prompt_price_per_1k, completion_token_price_per_1k]} for customized pricing.\n",
      "\u001b[33manalista\u001b[0m (to chat_manager):\n",
      "\n",
      "Grazie per avermi presentato le tue 5 idee innovative per un corso di introduzione all'intelligenza artificiale (IA) rivolto ai manager! Sono stato felice di esaminarle e scegliere la migliore al fine di rispondere al compito che ti ho assegnato.\n",
      "\n",
      "Dopo aver valutato attentamente le tue proposte, sono arrivato alla conclusione che il titolo più adatto per questo corso è: **\"IL potere dei dati con l'IA\" - Data-driven Business Decision Making \"**\n",
      "\n",
      "Questo titolo mi sembra il più efficace perché:\n",
      "\n",
      "*   Enfatica la centralità del ruolo dell'intelligenza artificiale nella gestione e nell'applicazione della conoscenza aziendale.\n",
      "*   Sottolinea l'importanza di una pianificazione basata su dati sull'intelligenze Artificia.\n",
      "*   Mostra un focus sugli argomenti più complessi trattati nel percorso, in modo da dare agli allievi un ritrovo sul piano tecnologico.\n",
      "\n",
      "Inoltre, questa scelta rispecchia il formato di questo compito al fine di avere una struttura coerente.\n",
      "\n",
      "--------------------------------------------------------------------------------\n"
     ]
    },
    {
     "data": {
      "text/plain": [
       "ChatResult(chat_id=None, chat_history=[{'content': \"\\n    Buongiorno cari colleghi. Dobbiamo scegliere un nome per il corso di introduzione all'intelligenza artificiale\\n    che stiamo finendo di progettare e che, vi ricordo, è rivolto a manager di organizzazioni che,\\n    senza voler diventare esperti di questioni tecniche, sono interessati a comprendere \\n    potenzialità e rischi di questa tecnologia. Chiedo al creativo di proporre 5 idee e di sottoporle all'analista,\\n    che farà le sue valutazioni e mi farà di conseguenza la sua proposta, concludendo così il nostro lavoro.\\n    \", 'role': 'assistant', 'name': 'chat_manager'}, {'content': 'Ciao a tutti! Sono felice di affrontare questo compito. Ecco le mie 5 idee innovative per un corso di introduzione all\\'intelligenza artificiale (IA) rivolto ai manager:\\n\\n**Ideas per il nome del corso:**\\n\\n1. **\"L\\'Uomo e l\\'MACchina\" - La trasformazione digitale nell\\'organizzazione**: è un titolo che rimanda alle possibili applicazioni dell\\'intelligenza artificiale nella vita aziendale, ma anche ai potenziali rischi che ciò può comportare.\\n2. **\"Leva dell\\'IA\" - Come portare la tecnologia digitale all\\'interno dell\\'organizzazione**: questo titolo enfatizza l\\'aspetto strategico del corso e il modo in cui gli manager possono utilizzare l\\'intelligenza artificiale per migliorare le loro organizzazioni.\\n3. **\"Dalla visione al codice\" - La guida alla sperimentazione di progetti IA**: questo titolo dà un\\'impronta pratica ed esperienziale, in quanto si concentra sulle applicazioni pratiche del corso e sulla creazione di competenze reali.\\n4. **\"IL potere dei dati con l\\'IA\" - Data-driven Business Decision Making \" :**  è titolo che evidenzia il ruolo dell\\'intelligenza artificiale nella gestione e nell\\'applicazione della conoscenza aziendale, mettendo in risalto anche questo corso di cui non si parla.\\n5. **\\'Tecnologie dell\\'IA\" - L\\'intelligenza Artificiale e le strategie commerciali per rivedere il futuro dell\\'innovazione digitale**, con un focus sui punti da valutare sul piano tecnologico.\\n\\nMi auguro che queste idee siano state di vostro gradimento, sono a disposizione delle vostre proposte ed esigenze.', 'role': 'user', 'name': 'creativo'}, {'content': 'Grazie per avermi presentato le tue 5 idee innovative per un corso di introduzione all\\'intelligenza artificiale (IA) rivolto ai manager! Sono stato felice di esaminarle e scegliere la migliore al fine di rispondere al compito che ti ho assegnato.\\n\\nDopo aver valutato attentamente le tue proposte, sono arrivato alla conclusione che il titolo più adatto per questo corso è: **\"IL potere dei dati con l\\'IA\" - Data-driven Business Decision Making \"**\\n\\nQuesto titolo mi sembra il più efficace perché:\\n\\n*   Enfatica la centralità del ruolo dell\\'intelligenza artificiale nella gestione e nell\\'applicazione della conoscenza aziendale.\\n*   Sottolinea l\\'importanza di una pianificazione basata su dati sull\\'intelligenze Artificia.\\n*   Mostra un focus sugli argomenti più complessi trattati nel percorso, in modo da dare agli allievi un ritrovo sul piano tecnologico.\\n\\nInoltre, questa scelta rispecchia il formato di questo compito al fine di avere una struttura coerente.', 'name': 'analista', 'role': 'assistant'}], summary='Grazie per avermi presentato le tue 5 idee innovative per un corso di introduzione all\\'intelligenza artificiale (IA) rivolto ai manager! Sono stato felice di esaminarle e scegliere la migliore al fine di rispondere al compito che ti ho assegnato.\\n\\nDopo aver valutato attentamente le tue proposte, sono arrivato alla conclusione che il titolo più adatto per questo corso è: **\"IL potere dei dati con l\\'IA\" - Data-driven Business Decision Making \"**\\n\\nQuesto titolo mi sembra il più efficace perché:\\n\\n*   Enfatica la centralità del ruolo dell\\'intelligenza artificiale nella gestione e nell\\'applicazione della conoscenza aziendale.\\n*   Sottolinea l\\'importanza di una pianificazione basata su dati sull\\'intelligenze Artificia.\\n*   Mostra un focus sugli argomenti più complessi trattati nel percorso, in modo da dare agli allievi un ritrovo sul piano tecnologico.\\n\\nInoltre, questa scelta rispecchia il formato di questo compito al fine di avere una struttura coerente.', cost={'usage_including_cached_inference': {'total_cost': 0, 'llama3.1:8b': {'cost': 0, 'prompt_tokens': 482, 'completion_tokens': 697, 'total_tokens': 1179}}, 'usage_excluding_cached_inference': {'total_cost': 0, 'llama3.1:8b': {'cost': 0, 'prompt_tokens': 482, 'completion_tokens': 697, 'total_tokens': 1179}}}, human_input=[])"
      ]
     },
     "execution_count": 13,
     "metadata": {},
     "output_type": "execute_result"
    }
   ],
   "source": [
    "manager.initiate_chat(\n",
    "    creative,\n",
    "    message=\"\"\"\n",
    "    Buongiorno cari colleghi. Dobbiamo scegliere un nome per il corso di introduzione all'intelligenza artificiale\n",
    "    che stiamo finendo di progettare e che, vi ricordo, è rivolto a manager di organizzazioni che,\n",
    "    senza voler diventare esperti di questioni tecniche, sono interessati a comprendere \n",
    "    potenzialità e rischi di questa tecnologia. Chiedo al creativo di proporre 5 idee e di sottoporle all'analista,\n",
    "    che farà le sue valutazioni e mi farà di conseguenza la sua proposta, concludendo così il nostro lavoro.\n",
    "    \"\"\")"
   ]
  },
  {
   "cell_type": "code",
   "execution_count": null,
   "metadata": {},
   "outputs": [],
   "source": []
  }
 ],
 "metadata": {
  "kernelspec": {
   "display_name": ".venv",
   "language": "python",
   "name": "python3"
  },
  "language_info": {
   "codemirror_mode": {
    "name": "ipython",
    "version": 3
   },
   "file_extension": ".py",
   "mimetype": "text/x-python",
   "name": "python",
   "nbconvert_exporter": "python",
   "pygments_lexer": "ipython3",
   "version": "3.12.7"
  }
 },
 "nbformat": 4,
 "nbformat_minor": 2
}
