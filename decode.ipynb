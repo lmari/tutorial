{
 "cells": [
  {
   "cell_type": "markdown",
   "metadata": {},
   "source": [
    "## Un'esplorazione della generazione di token\n",
    "\n",
    "Luca Mari, gennaio 2025  \n",
    "\n",
    "Quest'opera è distribuita con <a href=\"http://creativecommons.org/licenses/by-nc-sa/4.0\" target=\"_blank\">Licenza Creative Commons Attribuzione - Non commerciale - Condividi allo stesso modo 4.0 Internazionale</a>.  \n",
    "<img src=\"https://creativecommons.it/chapterIT/wp-content/uploads/2021/01/by-nc-sa.eu_.png\" width=\"100\">\n",
    "\n",
    "**Obiettivo**: comprendere la logica con cui vengono generati i token che costituiscono una risposta prodotta da un transformer a una richiesta data.  \n",
    "**Precompetenze**: basi di Python.\n",
    "\n",
    "> Per eseguire questo notebook, supponiamo con VSCode, occorre:\n",
    "> * installare un interprete Python\n",
    "> * scaricare da https://code.visualstudio.com/download e installare VSCode\n",
    "> * eseguire VSCode e attivare le estensioni per Python e Jupyter\n",
    "> * ancora in VSCode:\n",
    ">     * creare una cartella di lavoro e renderla la cartella corrente\n",
    ">     * copiare nella cartella i file di questa attività: [decode.ipynb](decode.ipynb)\n",
    ">     * aprire il notebook `decode.ipynb`\n",
    ">     * creare un ambiente virtuale locale Python (Select Kernel | Python Environments | Create Python Environment | Venv, e scegliere un interprete Python):\n",
    ">     * installare i moduli Python richiesti, eseguendo dal terminale:  \n",
    ">         `pip install torch transformers`"
   ]
  },
  {
   "cell_type": "markdown",
   "metadata": {},
   "source": [
    "Come è ben noto, i transformer rispondono alle richieste che ricevono operando con una logica autoregressiva, generando cioè un token per volta, in modo iterativo. Esploriamo qui le ultime fasi di questo processo, per mostrare come da un'elaborazione realizzata su vettori di numeri si torni a token e quindi a testi.  \n",
    "Per le nostre prove usiamo https://huggingface.co/google/gemma-2-2b-it, uno _Small Language Model_ che eseguiremo in locale ma già piuttosto sofisticato, con il suoi 2.61B parametri (alla prima esecuzione sarà dunque necessario attendere che il modello sia scaricato dal sito di Hugging Face: è un file di circa 5 GB che viene copiato in una cache locale)."
   ]
  },
  {
   "cell_type": "code",
   "execution_count": 1,
   "metadata": {},
   "outputs": [
    {
     "data": {
      "application/vnd.jupyter.widget-view+json": {
       "model_id": "c4cf95b2ce7d45678168a0b4a5dbe19e",
       "version_major": 2,
       "version_minor": 0
      },
      "text/plain": [
       "Loading checkpoint shards:   0%|          | 0/2 [00:00<?, ?it/s]"
      ]
     },
     "metadata": {},
     "output_type": "display_data"
    },
    {
     "name": "stdout",
     "output_type": "stream",
     "text": [
      "Stiamo usando un transformer con un vocabolario di 256000 token\n"
     ]
    }
   ],
   "source": [
    "from transformers import AutoTokenizer, AutoModelForCausalLM\n",
    "import torch\n",
    "import torch.nn.functional as F\n",
    "import matplotlib.pyplot as plt\n",
    "from pprint import pprint\n",
    "import logging\n",
    "from transformers import logging as transformers_logging\n",
    "\n",
    "logging.basicConfig(level=logging.ERROR)\n",
    "transformers_logging.set_verbosity_error()\n",
    "\n",
    "model_id = \"google/gemma-2-2b-it\"\n",
    "tokenizer = AutoTokenizer.from_pretrained(model_id)\n",
    "model = AutoModelForCausalLM.from_pretrained(model_id)\n",
    "\n",
    "print(f'Stiamo usando un transformer con un vocabolario di {tokenizer.vocab_size} token')"
   ]
  },
  {
   "cell_type": "markdown",
   "metadata": {},
   "source": [
    "Specifichiamo la richiesta e tokenizziamola."
   ]
  },
  {
   "cell_type": "code",
   "execution_count": 2,
   "metadata": {},
   "outputs": [
    {
     "name": "stdout",
     "output_type": "stream",
     "text": [
      "\n",
      "La richiesta: Come si chiama la capitale della Francia? (non usare caratteri di enfatizzazione)\n",
      "\n",
      "Ciò che produce il tokenizer:\n",
      "{'attention_mask': tensor([[1, 1, 1, 1, 1, 1, 1, 1, 1, 1, 1, 1, 1, 1, 1, 1, 1]]),\n",
      " 'input_ids': tensor([[     2,  13132,   1804, 104803,    683,  66831,   4748,  35872, 235336,\n",
      "            591,   6357,  96459, 232044,    751, 150474, 201222, 235275]])}\n",
      "\n",
      "Per controllo, decodifichiamo la richiesta: <bos>Come si chiama la capitale della Francia? (non usare caratteri di enfatizzazione)\n"
     ]
    }
   ],
   "source": [
    "prompt = \"Come si chiama la capitale della Francia? (non usare caratteri di enfatizzazione)\"\n",
    "print(f'\\nLa richiesta: {prompt}')\n",
    "\n",
    "inputs = tokenizer(prompt, return_tensors=\"pt\")\n",
    "print('\\nCiò che produce il tokenizer:')\n",
    "pprint(inputs)\n",
    "\n",
    "print(f\"\\nPer controllo, decodifichiamo la richiesta: {tokenizer.decode(inputs['input_ids'][0])}\") # type: ignore"
   ]
  },
  {
   "cell_type": "markdown",
   "metadata": {},
   "source": [
    "Inviamo ora la richiesta tokenizzata al transformer, indicando che dovrebbe produrre non solo i token della risposta ma anche i logits per ogni token generato, in modo da consentirci di comprendere meglio il modo con cui i token stessi sono scelti."
   ]
  },
  {
   "cell_type": "code",
   "execution_count": 3,
   "metadata": {},
   "outputs": [],
   "source": [
    "with torch.no_grad():\n",
    "    outputs = model.generate(\n",
    "        **inputs,\n",
    "        max_length=500,                     # numero massimo di token nella risposta\n",
    "        num_return_sequences=1,             # numero di risposte da generare\n",
    "        output_scores=True,                 # produce anche i logits per ogni token generato\n",
    "        return_dict_in_generate=True,       # produce un dizionario invece di una lista\n",
    "        do_sample=True,                     # abilita la generazione casuale\n",
    "        temperature=1.0,                    # controlla la casualità della generazione\n",
    "        top_k=3                             # specifica il numero di token da considerare per la generazione casuale\n",
    "    )"
   ]
  },
  {
   "cell_type": "markdown",
   "metadata": {},
   "source": [
    "Possiamo ottenere ora il testo della risposta prodotta dal transformer: è una successione di token a ognuno dei quali è associato un array di logits, uno per ogni token del vocabolario del modello."
   ]
  },
  {
   "cell_type": "code",
   "execution_count": 4,
   "metadata": {},
   "outputs": [
    {
     "name": "stdout",
     "output_type": "stream",
     "text": [
      "\n",
      "Risposta completa:\n",
      "<bos>Come si chiama la capitale della Francia? (non usare caratteri di enfatizzazione)\n",
      "\n",
      "La risposta è Parigi. \n",
      "<end_of_turn>\n",
      "\n",
      "La risposta contiene 9 token\n",
      "ognuno dei quali corrispondente a un vettore di 256000 logits\n"
     ]
    }
   ],
   "source": [
    "generated_ids = outputs.sequences[0]\n",
    "response = tokenizer.decode(generated_ids, skip_special_tokens=False) # decodifica la risposta\n",
    "print(f'\\nRisposta completa:\\n{response}')\n",
    "\n",
    "print(f'\\nLa risposta contiene {len(outputs.scores)} token')\n",
    "print(f'ognuno dei quali corrispondente a un vettore di {outputs.scores[0].shape[1]} logits')"
   ]
  },
  {
   "cell_type": "markdown",
   "metadata": {},
   "source": [
    "Ogni token della risposta viene prodotto con questa logica:\n",
    "* il contenuto della _context window_ fino a quel momento è dato in input al transformer, che produce in output una successione di logits, uno per ogni token del vocabolario del modello;\n",
    "* la successione di logits viene normalizzata e trasformata in una distribuzione di probabilità;\n",
    "* come prossimo token viene scelto quello più probabile, cioè la moda della distribuzione.\n",
    "\n",
    "Per ogni token della risposta, recuperiamo la sua probabilità e visualizziamo in un istogramma i 5 token più probabili con le loro rispettive probabilità, in modo da poter accertare quanto è più probabile il token scelto rispetto agli altri, e quindi quanto \"il transformer è convinto\" della scelta fatta."
   ]
  },
  {
   "cell_type": "code",
   "execution_count": 5,
   "metadata": {},
   "outputs": [
    {
     "name": "stdout",
     "output_type": "stream",
     "text": [
      "\n",
      "Token scelto: \n",
      "\n",
      " (id: 109; probabilità: 0.8672)\n"
     ]
    },
    {
     "data": {
      "image/png": "[encoded data removed]",
      "text/plain": [
       "<Figure size 300x100 with 1 Axes>"
      ]
     },
     "metadata": {},
     "output_type": "display_data"
    },
    {
     "name": "stdout",
     "output_type": "stream",
     "text": [
      "\n",
      "Token scelto: La (id: 2841; probabilità: 0.8946)\n"
     ]
    },
    {
     "data": {
      "image/png": "[encoded data removed]",
      "text/plain": [
       "<Figure size 300x100 with 1 Axes>"
      ]
     },
     "metadata": {},
     "output_type": "display_data"
    },
    {
     "name": "stdout",
     "output_type": "stream",
     "text": [
      "\n",
      "Token scelto:  capitale (id: 66831; probabilità: 0.8819)\n"
     ]
    },
    {
     "data": {
      "image/png": "[encoded data removed]",
      "text/plain": [
       "<Figure size 300x100 with 1 Axes>"
      ]
     },
     "metadata": {},
     "output_type": "display_data"
    },
    {
     "name": "stdout",
     "output_type": "stream",
     "text": [
      "\n",
      "Token scelto:  è (id: 4039; probabilità: 0.9837)\n"
     ]
    },
    {
     "data": {
      "image/png": "[encoded data removed]",
      "text/plain": [
       "<Figure size 300x100 with 1 Axes>"
      ]
     },
     "metadata": {},
     "output_type": "display_data"
    },
    {
     "name": "stdout",
     "output_type": "stream",
     "text": [
      "\n",
      "Token scelto:  Parigi (id: 124293; probabilità: 0.4407)\n"
     ]
    },
    {
     "data": {
      "image/png": "[encoded data removed]",
      "text/plain": [
       "<Figure size 300x100 with 1 Axes>"
      ]
     },
     "metadata": {},
     "output_type": "display_data"
    },
    {
     "name": "stdout",
     "output_type": "stream",
     "text": [
      "\n",
      "Token scelto: . (id: 235265; probabilità: 0.7958)\n"
     ]
    },
    {
     "data": {
      "image/png": "[encoded data removed]",
      "text/plain": [
       "<Figure size 300x100 with 1 Axes>"
      ]
     },
     "metadata": {},
     "output_type": "display_data"
    },
    {
     "name": "stdout",
     "output_type": "stream",
     "text": [
      "\n",
      "Token scelto:   (id: 235248; probabilità: 0.8174)\n"
     ]
    },
    {
     "data": {
      "image/png": "[encoded data removed]",
      "text/plain": [
       "<Figure size 300x100 with 1 Axes>"
      ]
     },
     "metadata": {},
     "output_type": "display_data"
    },
    {
     "name": "stdout",
     "output_type": "stream",
     "text": [
      "\n",
      "Token scelto: \n",
      " (id: 108; probabilità: 0.9789)\n"
     ]
    },
    {
     "data": {
      "image/png": "[encoded data removed]",
      "text/plain": [
       "<Figure size 300x100 with 1 Axes>"
      ]
     },
     "metadata": {},
     "output_type": "display_data"
    },
    {
     "name": "stdout",
     "output_type": "stream",
     "text": [
      "\n",
      "Token scelto: <end_of_turn> (id: 107; probabilità: 0.9986)\n"
     ]
    },
    {
     "data": {
      "image/png": "[encoded data removed]",
      "text/plain": [
       "<Figure size 300x100 with 1 Axes>"
      ]
     },
     "metadata": {},
     "output_type": "display_data"
    }
   ],
   "source": [
    "#generated_tokens = generated_ids[len(inputs[\"input_ids\"][0]):] # token generati dopo il prompt\n",
    "logits = outputs.scores                     # logits per ognuno dei token generati\n",
    "probs = torch.tensor([])\n",
    "top_k = 3\n",
    "\n",
    "for i in range(len(outputs.scores)):\n",
    "    token_logits = logits[i]                # logits relativi all'i-esimo token\n",
    "    token_probs = F.softmax(token_logits, dim=-1) # probabilità associate ai logits\n",
    "\n",
    "    predicted_token_id = torch.argmax(token_probs).item()\n",
    "    predicted_token = tokenizer.decode(predicted_token_id)\n",
    "    print(f'\\nToken scelto: {predicted_token} (id: {predicted_token_id}; probabilità: {token_probs[0, predicted_token_id].item():.4f})') # type: ignore\n",
    "\n",
    "    top_k_probs = torch.topk(token_probs, top_k).values.squeeze() # le cinque probabilità più alte\n",
    "    top_k_token_ids = torch.topk(token_probs, top_k).indices.squeeze()\n",
    "    top5_tokens = [tokenizer.decode(token_id) for token_id in top_k_token_ids]\n",
    "    probs = torch.cat((probs, torch.tensor([top_k_probs[0]])))\n",
    "\n",
    "    plt.figure(figsize=(3, 1))\n",
    "    plt.ylim(0, 1) \n",
    "    plt.bar(top5_tokens, top_k_probs, color='blue')\n",
    "    #plt.xlabel('Token')\n",
    "    #plt.ylabel('Probabilità')\n",
    "    plt.show()"
   ]
  },
  {
   "cell_type": "markdown",
   "metadata": {},
   "source": [
    "Un indice per valutare il grado con cui il transformer \"è convinto\" della risposta che ha prodotto è la _Perplexity_ della risposta, che sostanzialmente porta informazione sull'inverso della probabilità media dei token scelti, e quindi sul numero medio di token effettivamente considerati nella scelta (la Perplexity è calcolata da $2^{- \\frac{1}{N} \\sum_{i=1}^N \\log_2 P(t_i|t_1,t_2,...,t_{i-1})}$, dove $t_i$ è il token $i$-esimo della risposta)."
   ]
  },
  {
   "cell_type": "code",
   "execution_count": 6,
   "metadata": {},
   "outputs": [
    {
     "name": "stdout",
     "output_type": "stream",
     "text": [
      "\n",
      "Date le probabilità dei token scelti:\n",
      "tensor([0.8672, 0.8946, 0.8819, 0.9837, 0.4407, 0.7958, 0.8174, 0.9789, 0.9986])\n",
      "la Perplexity della risposta è 1.20\n"
     ]
    }
   ],
   "source": [
    "print(f'\\nDate le probabilità dei token scelti:\\n{probs}')\n",
    "\n",
    "perplexity = 2**(torch.mean(-torch.log2(probs)))\n",
    "print(f'la Perplexity della risposta è {perplexity.item():.2f}')"
   ]
  },
  {
   "cell_type": "markdown",
   "metadata": {},
   "source": [
    "Infine, sperimentiamo una strategia di generazione di token alternativa, il _beam search_, in cui si producono contemporaneamente più risposte alternative, generando a ogni iterazione più token e, via via che le successioni si allungano, mantenendo solo quelle la cui probabilità complessiva è maggiore."
   ]
  },
  {
   "cell_type": "code",
   "execution_count": 7,
   "metadata": {},
   "outputs": [],
   "source": [
    "prompt = \"Proponi un titolo, originale e in italiano, per un testo di introduzione all'intelligenza artificiale? Scrivi una sola proposta, senza giustificazione e senza caratteri di enfatizzazione.\"\n",
    "inputs = tokenizer(prompt, return_tensors=\"pt\")\n",
    "\n",
    "with torch.no_grad():\n",
    "    outputs = model.generate(\n",
    "        inputs[\"input_ids\"],\n",
    "        max_length=100,                     # numero massimo di token nella risposta\n",
    "        num_beams=5,                        # numero di opzioni da esplorare in parallelo per ogni token\n",
    "        num_return_sequences=3,             # numero di risposte da generare\n",
    "        early_stopping=True,                # ferma la generazione quando tutte le ipotesi sono terminate\n",
    "        no_repeat_ngram_size=4,             # impedisce la ripetizione di n-grammi di lunghezza 4\n",
    "        length_penalty=0.6                  # controlla la lunghezza delle risposte, favorendo quelle più lunghe\n",
    "    )"
   ]
  },
  {
   "cell_type": "markdown",
   "metadata": {},
   "source": [
    "E ora visualizziamo il risultato."
   ]
  },
  {
   "cell_type": "code",
   "execution_count": 8,
   "metadata": {},
   "outputs": [
    {
     "name": "stdout",
     "output_type": "stream",
     "text": [
      "\n",
      "La richiesta: Proponi un titolo, originale e in italiano, per un testo di introduzione all'intelligenza artificiale? Scrivi una sola proposta, senza giustificazione e senza caratteri di enfatizzazione.\n",
      "\n",
      "Risposta 1: \n",
      "L'ombra dell'innovazione\n",
      "\n",
      "\n",
      "\n",
      "Risposta 2: \n",
      "L'uomo e la macchina: un'alleanza digitale\n",
      "\n",
      "\n",
      "\n",
      "Risposta 3: \n",
      "L'uomo e la macchina: una nuova era\n",
      "\n",
      "\n"
     ]
    }
   ],
   "source": [
    "print(f'\\nLa richiesta: {prompt}')\n",
    "\n",
    "responses = [tokenizer.decode(ids, skip_special_tokens=True) for ids in outputs]\n",
    "for i, text in enumerate(responses):\n",
    "    print(f'\\nRisposta {i + 1}:', text[1+len(prompt):])"
   ]
  }
 ],
 "metadata": {
  "kernelspec": {
   "display_name": ".venv",
   "language": "python",
   "name": "python3"
  },
  "language_info": {
   "codemirror_mode": {
    "name": "ipython",
    "version": 3
   },
   "file_extension": ".py",
   "mimetype": "text/x-python",
   "name": "python",
   "nbconvert_exporter": "python",
   "pygments_lexer": "ipython3",
   "version": "3.13.1"
  }
 },
 "nbformat": 4,
 "nbformat_minor": 2
}
